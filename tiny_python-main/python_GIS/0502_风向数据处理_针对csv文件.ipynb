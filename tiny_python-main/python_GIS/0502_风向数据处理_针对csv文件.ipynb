{
 "cells": [
  {
   "cell_type": "code",
   "execution_count": null,
   "metadata": {
    "collapsed": true,
    "pycharm": {
     "name": "#%%\n"
    }
   },
   "outputs": [],
   "source": [
    "import matplotlib.pyplot as plt\n",
    "import numpy as np\n",
    "import pandas as pd\n",
    "from tqdm import tqdm\n",
    "import seaborn as sns\n",
    "\n",
    "tqdm.pandas()\n",
    "import platform\n",
    "\n",
    "# matplotlib 显示中文的问题\n",
    "if platform.system() == 'Darwin':\n",
    "    plt.rcParams[\"font.family\"] = 'Arial Unicode MS'\n",
    "elif platform.system() == 'Windows':\n",
    "    plt.rcParams[\"font.family\"] = 'SimHei'\n",
    "else:\n",
    "    pass"
   ]
  },
  {
   "cell_type": "code",
   "execution_count": null,
   "metadata": {
    "collapsed": false,
    "pycharm": {
     "name": "#%%\n"
    }
   },
   "outputs": [],
   "source": [
    "rawdata = pd.read_csv(\"数据集/Ordos.csv\", parse_dates=['DATE'])\n",
    "rawdata['DATE_YEAR'] = rawdata['DATE'].dt.year\n",
    "rawdata['DATE_MONTH'] = rawdata['DATE'].dt.month\n",
    "rawdata['DATE_DAY'] = rawdata['DATE'].dt.day\n",
    "\n",
    "rawdata['STATION'] = rawdata['STATION'].apply(lambda x: int(x / 100000))\n",
    "\n",
    "\n",
    "def split_WND(x) -> pd.Series:\n",
    "    value = pd.Series(x.split(','), ['DIR', 'DQ', 'State', 'Spd', 'SQ'])\n",
    "    # value['Spd'] = value['Spd']\n",
    "    if value['Spd'] == '9999':\n",
    "        value['Spd'] = np.nan\n",
    "    else:\n",
    "        value['Spd'] = float(value['Spd']) / 10\n",
    "\n",
    "    value['DIR'] = float(value['DIR'])\n",
    "    value['DQ'] = float(value['DQ'])\n",
    "    value['Spd'] = float(value['Spd'])\n",
    "    value['SQ'] = float(value['SQ'])\n",
    "\n",
    "    return value\n",
    "\n",
    "\n",
    "rawdata[['DIR', 'DQ', 'State', 'Spd', 'SQ']] = rawdata['WND'].progress_apply(lambda x: split_WND(x))"
   ]
  },
  {
   "cell_type": "code",
   "execution_count": null,
   "metadata": {
    "collapsed": false,
    "pycharm": {
     "name": "#%%\n"
    }
   },
   "outputs": [],
   "source": [
    "rawdata.loc[rawdata['DIR'] > 360, ['DIR']] = np.nan\n",
    "# rawdata"
   ]
  },
  {
   "cell_type": "markdown",
   "metadata": {
    "collapsed": false
   },
   "source": [
    "## 月份和风速"
   ]
  },
  {
   "cell_type": "code",
   "execution_count": null,
   "metadata": {
    "collapsed": false,
    "pycharm": {
     "name": "#%%\n"
    }
   },
   "outputs": [],
   "source": [
    "import plotly.graph_objects as go\n",
    "\n",
    "fig = go.Figure()\n",
    "\n",
    "for i in range(1, 13):\n",
    "    fig.add_trace(go.Box(y=rawdata.query(f'DATE_MONTH == {i}')['Spd'].values, name=i))\n",
    "\n",
    "fig.update_layout(template='simple_white',\n",
    "                  title=\"月份和风速的boxplot\",\n",
    "                  xaxis_title='月份',\n",
    "                  yaxis_title='风速',\n",
    "                  showlegend=False)\n",
    "fig.show()\n"
   ]
  },
  {
   "cell_type": "markdown",
   "metadata": {
    "collapsed": false,
    "pycharm": {
     "name": "#%% md\n"
    }
   },
   "source": [
    "## 月份和风向"
   ]
  },
  {
   "cell_type": "code",
   "execution_count": null,
   "metadata": {
    "collapsed": false,
    "pycharm": {
     "name": "#%%\n"
    }
   },
   "outputs": [],
   "source": [
    "fig = go.Figure()\n",
    "\n",
    "for i in range(1, 13):\n",
    "    fig.add_trace(go.Box(y=rawdata.query(f'DATE_MONTH == {i}')['DIR'].values, name=i))\n",
    "\n",
    "fig.update_layout(template='simple_white',\n",
    "                  title=\"月份和风向的boxplot\",\n",
    "                  xaxis_title='月份',\n",
    "                  yaxis_title='风向',\n",
    "                  showlegend=False)\n",
    "fig.show()"
   ]
  },
  {
   "cell_type": "markdown",
   "metadata": {
    "collapsed": false,
    "pycharm": {
     "name": "#%% md\n"
    }
   },
   "source": [
    "## 风向和风速两个图放在一起"
   ]
  },
  {
   "cell_type": "code",
   "execution_count": null,
   "metadata": {
    "collapsed": false,
    "pycharm": {
     "name": "#%%\n"
    }
   },
   "outputs": [],
   "source": [
    "fig, ax = plt.subplots(nrows=1, ncols=2, figsize=(10, 6), dpi=150, sharey=True)\n",
    "sns.boxplot(data=rawdata, x='DIR', y='DATE_MONTH', ax=ax[0], orient='h', fliersize=0.5, linewidth=0.7)\n",
    "sns.boxplot(data=rawdata, x='Spd', y='DATE_MONTH', ax=ax[1], orient='h', fliersize=0.5, linewidth=0.7)\n",
    "\n",
    "ax[0].set_title(\"wind DIRECTION\")\n",
    "ax[1].set_title(\"wind SPEED\")"
   ]
  },
  {
   "cell_type": "markdown",
   "metadata": {
    "collapsed": false,
    "pycharm": {
     "name": "#%% md\n"
    }
   },
   "source": [
    "## 绘制玫瑰图\n"
   ]
  },
  {
   "cell_type": "code",
   "execution_count": null,
   "metadata": {
    "collapsed": false,
    "pycharm": {
     "name": "#%%\n"
    }
   },
   "outputs": [],
   "source": [
    "data_200007 = rawdata.loc[(rawdata['DATE_MONTH'] == 7) & (rawdata['DATE_YEAR'] == 2000), :]\n",
    "data_200007.dtypes"
   ]
  },
  {
   "cell_type": "code",
   "execution_count": null,
   "metadata": {
    "collapsed": false,
    "pycharm": {
     "name": "#%%\n"
    }
   },
   "outputs": [],
   "source": [
    "import matplotlib.pyplot as plt\n",
    "from windrose import WindroseAxes\n",
    "import matplotlib.cm as cm\n",
    "\n",
    "fig, ax = plt.subplots(subplot_kw={'projection': 'windrose'}, dpi=100, figsize=(6, 6))\n",
    "ax.bar(data_200007['DIR'].astype('float'), data_200007['Spd'], normed=True, opening=0.8, edgecolor='black')\n",
    "ax.set_legend()\n",
    "plt.show()"
   ]
  },
  {
   "cell_type": "code",
   "execution_count": null,
   "metadata": {
    "collapsed": false,
    "pycharm": {
     "name": "#%%\n"
    }
   },
   "outputs": [],
   "source": [
    "fig, ax = plt.subplots(subplot_kw={'projection': 'windrose'}, dpi=100, figsize=(6, 6))\n",
    "ax.contourf(data_200007['DIR'].astype('float'), data_200007['Spd'], bins=np.arange(0, 9, 1), cmap=cm.hot)\n",
    "ax.set_legend()\n",
    "plt.show()"
   ]
  },
  {
   "cell_type": "markdown",
   "metadata": {
    "collapsed": false,
    "pycharm": {
     "name": "#%% md\n"
    }
   },
   "source": [
    "## 绘制2020年的数据\n"
   ]
  },
  {
   "cell_type": "code",
   "execution_count": null,
   "metadata": {
    "collapsed": false,
    "pycharm": {
     "name": "#%%\n"
    }
   },
   "outputs": [],
   "source": [
    "data_2020 = rawdata.loc[rawdata['DATE_YEAR'] == 2020, :].copy()"
   ]
  },
  {
   "cell_type": "markdown",
   "metadata": {
    "collapsed": false,
    "pycharm": {
     "name": "#%% md\n"
    }
   },
   "source": [
    "### 风速和风向分布数据"
   ]
  },
  {
   "cell_type": "code",
   "execution_count": null,
   "metadata": {
    "collapsed": false,
    "pycharm": {
     "name": "#%%\n"
    }
   },
   "outputs": [],
   "source": [
    "fig, ax = plt.subplots(nrows=1, ncols=2, figsize=(10, 5), dpi=150)\n",
    "sns.histplot(data_2020['DIR'], ax=ax[0], kde=True, stat='density')\n",
    "ax[0].set_title(\"wind Direction\")\n",
    "\n",
    "sns.histplot(data_2020['Spd'], ax=ax[1], kde=True, stat='density')\n",
    "ax[1].set_title(\"wind Speed\")\n",
    "fig.savefig(\"结果/histplot.png\")"
   ]
  },
  {
   "cell_type": "markdown",
   "metadata": {
    "collapsed": false,
    "pycharm": {
     "name": "#%% md\n"
    }
   },
   "source": [
    "### 按16方位风向绘制风向频次统计柱状图"
   ]
  },
  {
   "cell_type": "code",
   "execution_count": null,
   "metadata": {
    "collapsed": false,
    "pycharm": {
     "name": "#%%\n"
    }
   },
   "outputs": [],
   "source": [
    "def label_winddirect(winddirect):\n",
    "    value = np.hstack([np.array(0), np.arange(start=0, stop=16) * 22.5 + 11.25, 360])\n",
    "    labels = ['N', 'NNE', 'NE', 'ENE', 'E', 'ESE', 'SE', 'SSE', 'S', 'SSW', 'SW', 'WSW', 'W',\n",
    "              'WNW', 'NW', 'NNW', 'N']\n",
    "    for index in range(value.shape[0] - 1):\n",
    "        if ((winddirect >= value[index]) & (winddirect < value[index + 1])):\n",
    "            return labels[index]\n",
    "\n",
    "\n",
    "data_2020['DIR_cut'] = data_2020['DIR'].progress_apply(lambda x: label_winddirect(x))"
   ]
  },
  {
   "cell_type": "code",
   "execution_count": null,
   "metadata": {
    "collapsed": false,
    "pycharm": {
     "name": "#%%\n"
    }
   },
   "outputs": [],
   "source": [
    "data_2020_wd = data_2020.groupby(['DIR_cut']).agg(\n",
    "    count=('DIR_cut', 'count')\n",
    ").reset_index()\n",
    "\n",
    "data_2020_wd['DIR_cut'] = pd.Categorical(values=data_2020_wd['DIR_cut'],\n",
    "                                         categories=['N', 'NNE', 'NE', 'ENE', 'E', 'ESE', 'SE', 'SSE', 'S', 'SSW', 'SW',\n",
    "                                                     'WSW', 'W', 'WNW', 'NW', 'NNW'], ordered=True)\n",
    "data_2020_wd = data_2020_wd.sort_values(by=['DIR_cut'])\n",
    "data_2020_wd['frequency'] = data_2020_wd['count'] / data_2020_wd['count'].sum()\n",
    "\n",
    "fig, ax = plt.subplots(figsize=(10, 5), dpi=150)\n",
    "\n",
    "sns.barplot(data=data_2020_wd, x='DIR_cut', y='frequency', ax=ax)\n",
    "_ = ax.set_ylabel('Frequency (%)')\n",
    "_ = ax.set_title(\"2020年 按16方位风向绘制风向频次统计柱状图\")\n",
    "_ = ax.set_xlabel(\"\")"
   ]
  },
  {
   "cell_type": "markdown",
   "metadata": {
    "collapsed": false,
    "pycharm": {
     "name": "#%% md\n"
    }
   },
   "source": [
    "### 风速分布"
   ]
  },
  {
   "cell_type": "code",
   "execution_count": null,
   "metadata": {
    "collapsed": false,
    "pycharm": {
     "name": "#%%\n"
    }
   },
   "outputs": [],
   "source": [
    "data_07 = rawdata.loc[rawdata['DATE_MONTH'] == 7, :].copy()\n",
    "fig, ax = plt.subplots(figsize=(10, 5), dpi=150)\n",
    "sns.histplot(data_07['Spd'][~pd.isna(data_07['Spd'])], ax=ax, stat='density', bins=20)"
   ]
  },
  {
   "cell_type": "markdown",
   "metadata": {
    "collapsed": false,
    "pycharm": {
     "name": "#%% md\n"
    }
   },
   "source": [
    "### 计算风速的分布的相关参数，以stats.weibull_min为基础"
   ]
  },
  {
   "cell_type": "markdown",
   "metadata": {
    "collapsed": false,
    "pycharm": {
     "name": "#%% md\n"
    }
   },
   "source": [
    "效果不太好，后期再具体介绍"
   ]
  },
  {
   "cell_type": "code",
   "execution_count": null,
   "metadata": {
    "collapsed": false,
    "pycharm": {
     "name": "#%%\n"
    }
   },
   "outputs": [],
   "source": [
    "from scipy import stats\n",
    "\n",
    "shape, loc, scale = stats.weibull_min.fit(data_07['Spd'][~pd.isna(data_07['Spd'])], floc=0)\n",
    "x = np.arange(0, 20, 0.01)\n",
    "\n",
    "fig, ax = plt.subplots(figsize=(10, 5), dpi=150)\n",
    "sns.histplot(data_07['Spd'][~pd.isna(data_07['Spd'])], stat='density', ax=ax, bins=20)\n",
    "sns.lineplot(x, stats.weibull_min.pdf(x, c=shape, scale=scale, loc=loc), ax=ax)"
   ]
  },
  {
   "cell_type": "code",
   "execution_count": null,
   "metadata": {
    "collapsed": false,
    "pycharm": {
     "name": "#%%\n"
    }
   },
   "outputs": [],
   "source": []
  }
 ],
 "metadata": {
  "kernelspec": {
   "display_name": "Python 3",
   "language": "python",
   "name": "python3"
  },
  "language_info": {
   "codemirror_mode": {
    "name": "ipython",
    "version": 2
   },
   "file_extension": ".py",
   "mimetype": "text/x-python",
   "name": "python",
   "nbconvert_exporter": "python",
   "pygments_lexer": "ipython2",
   "version": "2.7.6"
  }
 },
 "nbformat": 4,
 "nbformat_minor": 0
}
