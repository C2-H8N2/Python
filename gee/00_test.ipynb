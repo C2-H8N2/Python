{
 "cells": [
  {
   "cell_type": "code",
   "id": "fc497712-6a05-40de-b849-e13ac1a03d04",
   "metadata": {
    "ExecuteTime": {
     "end_time": "2024-12-18T04:15:11.528087Z",
     "start_time": "2024-12-18T04:15:11.242815Z"
    }
   },
   "source": [
    "import ee\n",
    "import geemap\n",
    "geemap.set_proxy(33210)\n",
    "geemap.ee_initialize()"
   ],
   "outputs": [
    {
     "ename": "ModuleNotFoundError",
     "evalue": "No module named 'ee'",
     "output_type": "error",
     "traceback": [
      "\u001B[1;31m---------------------------------------------------------------------------\u001B[0m",
      "\u001B[1;31mModuleNotFoundError\u001B[0m                       Traceback (most recent call last)",
      "Cell \u001B[1;32mIn[1], line 1\u001B[0m\n\u001B[1;32m----> 1\u001B[0m \u001B[38;5;28;01mimport\u001B[39;00m \u001B[38;5;21;01mee\u001B[39;00m\n\u001B[0;32m      2\u001B[0m \u001B[38;5;28;01mimport\u001B[39;00m \u001B[38;5;21;01mgeemap\u001B[39;00m\n\u001B[0;32m      3\u001B[0m geemap\u001B[38;5;241m.\u001B[39mset_proxy(\u001B[38;5;241m33210\u001B[39m)\n",
      "\u001B[1;31mModuleNotFoundError\u001B[0m: No module named 'ee'"
     ]
    }
   ],
   "execution_count": 1
  },
  {
   "metadata": {},
   "cell_type": "code",
   "outputs": [],
   "execution_count": null,
   "source": "",
   "id": "8a209324e6b8607f"
  }
 ],
 "metadata": {
  "kernelspec": {
   "display_name": "gee",
   "language": "python",
   "name": "python3"
  },
  "language_info": {
   "codemirror_mode": {
    "name": "ipython",
    "version": 3
   },
   "file_extension": ".py",
   "mimetype": "text/x-python",
   "name": "python",
   "nbconvert_exporter": "python",
   "pygments_lexer": "ipython3",
   "version": "3.12.7"
  }
 },
 "nbformat": 4,
 "nbformat_minor": 5
}
