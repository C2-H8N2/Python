{
 "cells": [
  {
   "cell_type": "code",
   "execution_count": 1,
   "id": "fc497712-6a05-40de-b849-e13ac1a03d04",
   "metadata": {
    "ExecuteTime": {
     "end_time": "2024-12-18T04:15:11.528087Z",
     "start_time": "2024-12-18T04:15:11.242815Z"
    }
   },
   "outputs": [],
   "source": [
    "import ee\n",
    "import geemap\n",
    "geemap.set_proxy(33210)\n",
    "geemap.ee_initialize()"
   ]
  },
  {
   "cell_type": "code",
   "execution_count": 1,
   "id": "8a209324e6b8607f",
   "metadata": {},
   "outputs": [],
   "source": [
    "import ee\n",
    "import geemap\n",
    "geemap.set_proxy(33210)"
   ]
  },
  {
   "cell_type": "code",
   "execution_count": 3,
   "id": "21bf3e9a",
   "metadata": {},
   "outputs": [
    {
     "data": {
      "text/html": [
       "\n",
       "            <style>\n",
       "                .geemap-dark {\n",
       "                    --jp-widgets-color: white;\n",
       "                    --jp-widgets-label-color: white;\n",
       "                    --jp-ui-font-color1: white;\n",
       "                    --jp-layout-color2: #454545;\n",
       "                    background-color: #383838;\n",
       "                }\n",
       "\n",
       "                .geemap-dark .jupyter-button {\n",
       "                    --jp-layout-color3: #383838;\n",
       "                }\n",
       "\n",
       "                .geemap-colab {\n",
       "                    background-color: var(--colab-primary-surface-color, white);\n",
       "                }\n",
       "\n",
       "                .geemap-colab .jupyter-button {\n",
       "                    --jp-layout-color3: var(--colab-primary-surface-color, white);\n",
       "                }\n",
       "            </style>\n",
       "            "
      ],
      "text/plain": [
       "<IPython.core.display.HTML object>"
      ]
     },
     "metadata": {},
     "output_type": "display_data"
    },
    {
     "ename": "Exception",
     "evalue": "ee_object must be one of ee.Geometry, ee.FeatureCollection, ee.Image, or ee.ImageCollection.",
     "output_type": "error",
     "traceback": [
      "\u001b[1;31m---------------------------------------------------------------------------\u001b[0m",
      "\u001b[1;31mTypeError\u001b[0m                                 Traceback (most recent call last)",
      "File \u001b[1;32md:\\Anaconda\\envs\\gee\\Lib\\site-packages\\geemap\\core.py:822\u001b[0m, in \u001b[0;36mMap._get_geometry\u001b[1;34m(self, ee_object, max_error)\u001b[0m\n\u001b[0;32m    821\u001b[0m \u001b[38;5;28;01mtry\u001b[39;00m:\n\u001b[1;32m--> 822\u001b[0m     \u001b[38;5;28;01mreturn\u001b[39;00m \u001b[43mee_object\u001b[49m\u001b[38;5;241;43m.\u001b[39;49m\u001b[43mgeometry\u001b[49m\u001b[43m(\u001b[49m\u001b[43mmaxError\u001b[49m\u001b[38;5;241;43m=\u001b[39;49m\u001b[43mmax_error\u001b[49m\u001b[43m)\u001b[49m\n\u001b[0;32m    823\u001b[0m \u001b[38;5;28;01mexcept\u001b[39;00m \u001b[38;5;167;01mException\u001b[39;00m \u001b[38;5;28;01mas\u001b[39;00m exc:\n",
      "\u001b[1;31mTypeError\u001b[0m: 'GeoSeries' object is not callable",
      "\nThe above exception was the direct cause of the following exception:\n",
      "\u001b[1;31mException\u001b[0m                                 Traceback (most recent call last)",
      "Cell \u001b[1;32mIn[3], line 12\u001b[0m\n\u001b[0;32m     10\u001b[0m \u001b[38;5;66;03m# 将结果添加到地图\u001b[39;00m\n\u001b[0;32m     11\u001b[0m Map\u001b[38;5;241m.\u001b[39madd_gdf(gdf, layer_name\u001b[38;5;241m=\u001b[39m\u001b[38;5;124m\"\u001b[39m\u001b[38;5;124mKnoxville\u001b[39m\u001b[38;5;124m\"\u001b[39m)\n\u001b[1;32m---> 12\u001b[0m \u001b[43mMap\u001b[49m\u001b[38;5;241;43m.\u001b[39;49m\u001b[43mcenterObject\u001b[49m\u001b[43m(\u001b[49m\u001b[43mgdf\u001b[49m\u001b[43m,\u001b[49m\u001b[43m \u001b[49m\u001b[38;5;241;43m11\u001b[39;49m\u001b[43m)\u001b[49m\n\u001b[0;32m     14\u001b[0m Map\n",
      "File \u001b[1;32md:\\Anaconda\\envs\\gee\\Lib\\site-packages\\geemap\\geemap.py:492\u001b[0m, in \u001b[0;36mMap.center_object\u001b[1;34m(self, ee_object, zoom)\u001b[0m\n\u001b[0;32m    482\u001b[0m \u001b[38;5;28;01mdef\u001b[39;00m \u001b[38;5;21mcenter_object\u001b[39m(\n\u001b[0;32m    483\u001b[0m     \u001b[38;5;28mself\u001b[39m, ee_object: Union[ee\u001b[38;5;241m.\u001b[39mElement, ee\u001b[38;5;241m.\u001b[39mGeometry], zoom: Optional[\u001b[38;5;28mint\u001b[39m] \u001b[38;5;241m=\u001b[39m \u001b[38;5;28;01mNone\u001b[39;00m\n\u001b[0;32m    484\u001b[0m ) \u001b[38;5;241m-\u001b[39m\u001b[38;5;241m>\u001b[39m \u001b[38;5;28;01mNone\u001b[39;00m:\n\u001b[0;32m    485\u001b[0m \u001b[38;5;250m    \u001b[39m\u001b[38;5;124;03m\"\"\"Centers the map view on a given object.\u001b[39;00m\n\u001b[0;32m    486\u001b[0m \n\u001b[0;32m    487\u001b[0m \u001b[38;5;124;03m    Args:\u001b[39;00m\n\u001b[1;32m   (...)\u001b[0m\n\u001b[0;32m    490\u001b[0m \u001b[38;5;124;03m        zoom (Optional[int], optional): The zoom level, from 1 to 24. Defaults to None.\u001b[39;00m\n\u001b[0;32m    491\u001b[0m \u001b[38;5;124;03m    \"\"\"\u001b[39;00m\n\u001b[1;32m--> 492\u001b[0m     \u001b[38;5;28;43msuper\u001b[39;49m\u001b[43m(\u001b[49m\u001b[43m)\u001b[49m\u001b[38;5;241;43m.\u001b[39;49m\u001b[43mcenter_object\u001b[49m\u001b[43m(\u001b[49m\u001b[43mee_object\u001b[49m\u001b[43m,\u001b[49m\u001b[43m \u001b[49m\u001b[43mzoom\u001b[49m\u001b[43m)\u001b[49m\n\u001b[0;32m    493\u001b[0m     \u001b[38;5;28;01mif\u001b[39;00m is_arcpy():\n\u001b[0;32m    494\u001b[0m         bds \u001b[38;5;241m=\u001b[39m \u001b[38;5;28mself\u001b[39m\u001b[38;5;241m.\u001b[39mbounds\n",
      "File \u001b[1;32md:\\Anaconda\\envs\\gee\\Lib\\site-packages\\geemap\\core.py:838\u001b[0m, in \u001b[0;36mMap.center_object\u001b[1;34m(self, ee_object, zoom)\u001b[0m\n\u001b[0;32m    831\u001b[0m \u001b[38;5;250m\u001b[39m\u001b[38;5;124;03m\"\"\"Centers the map view on a given object.\u001b[39;00m\n\u001b[0;32m    832\u001b[0m \n\u001b[0;32m    833\u001b[0m \u001b[38;5;124;03mArgs:\u001b[39;00m\n\u001b[0;32m    834\u001b[0m \u001b[38;5;124;03m    ee_object (ee.ComputedObject): The Earth Engine object to center on.\u001b[39;00m\n\u001b[0;32m    835\u001b[0m \u001b[38;5;124;03m    zoom (Optional[int]): Zoom level to set. Defaults to None.\u001b[39;00m\n\u001b[0;32m    836\u001b[0m \u001b[38;5;124;03m\"\"\"\u001b[39;00m\n\u001b[0;32m    837\u001b[0m max_error \u001b[38;5;241m=\u001b[39m \u001b[38;5;241m0.001\u001b[39m\n\u001b[1;32m--> 838\u001b[0m geometry \u001b[38;5;241m=\u001b[39m \u001b[38;5;28;43mself\u001b[39;49m\u001b[38;5;241;43m.\u001b[39;49m\u001b[43m_get_geometry\u001b[49m\u001b[43m(\u001b[49m\u001b[43mee_object\u001b[49m\u001b[43m,\u001b[49m\u001b[43m \u001b[49m\u001b[43mmax_error\u001b[49m\u001b[43m)\u001b[49m\u001b[38;5;241m.\u001b[39mtransform(\n\u001b[0;32m    839\u001b[0m     maxError\u001b[38;5;241m=\u001b[39mmax_error\n\u001b[0;32m    840\u001b[0m )\n\u001b[0;32m    841\u001b[0m \u001b[38;5;28;01mif\u001b[39;00m zoom \u001b[38;5;129;01mis\u001b[39;00m \u001b[38;5;28;01mNone\u001b[39;00m:\n\u001b[0;32m    842\u001b[0m     coordinates \u001b[38;5;241m=\u001b[39m geometry\u001b[38;5;241m.\u001b[39mbounds(max_error)\u001b[38;5;241m.\u001b[39mgetInfo()[\u001b[38;5;124m\"\u001b[39m\u001b[38;5;124mcoordinates\u001b[39m\u001b[38;5;124m\"\u001b[39m][\u001b[38;5;241m0\u001b[39m]\n",
      "File \u001b[1;32md:\\Anaconda\\envs\\gee\\Lib\\site-packages\\geemap\\core.py:824\u001b[0m, in \u001b[0;36mMap._get_geometry\u001b[1;34m(self, ee_object, max_error)\u001b[0m\n\u001b[0;32m    822\u001b[0m     \u001b[38;5;28;01mreturn\u001b[39;00m ee_object\u001b[38;5;241m.\u001b[39mgeometry(maxError\u001b[38;5;241m=\u001b[39mmax_error)\n\u001b[0;32m    823\u001b[0m \u001b[38;5;28;01mexcept\u001b[39;00m \u001b[38;5;167;01mException\u001b[39;00m \u001b[38;5;28;01mas\u001b[39;00m exc:\n\u001b[1;32m--> 824\u001b[0m     \u001b[38;5;28;01mraise\u001b[39;00m \u001b[38;5;167;01mException\u001b[39;00m(\n\u001b[0;32m    825\u001b[0m         \u001b[38;5;124m\"\u001b[39m\u001b[38;5;124mee_object must be one of ee.Geometry, ee.FeatureCollection, ee.Image, or ee.ImageCollection.\u001b[39m\u001b[38;5;124m\"\u001b[39m\n\u001b[0;32m    826\u001b[0m     ) \u001b[38;5;28;01mfrom\u001b[39;00m \u001b[38;5;21;01mexc\u001b[39;00m\n",
      "\u001b[1;31mException\u001b[0m: ee_object must be one of ee.Geometry, ee.FeatureCollection, ee.Image, or ee.ImageCollection."
     ]
    }
   ],
   "source": [
    "import geemap\n",
    "import osmnx as ox\n",
    "\n",
    "# 创建地图对象\n",
    "Map = geemap.Map()\n",
    "\n",
    "# 使用 osmnx 获取地理信息并转为 Earth Engine FeatureCollection\n",
    "gdf = ox.geocode_to_gdf(\"Knoxville, Tennessee\")\n",
    "\n",
    "# 将结果添加到地图\n",
    "Map.add_gdf(gdf, layer_name=\"Knoxville\")\n",
    "Map.centerObject(gdf, 11)\n",
    "\n",
    "Map\n"
   ]
  }
 ],
 "metadata": {
  "kernelspec": {
   "display_name": "gee",
   "language": "python",
   "name": "python3"
  },
  "language_info": {
   "codemirror_mode": {
    "name": "ipython",
    "version": 3
   },
   "file_extension": ".py",
   "mimetype": "text/x-python",
   "name": "python",
   "nbconvert_exporter": "python",
   "pygments_lexer": "ipython3",
   "version": "3.12.7"
  }
 },
 "nbformat": 4,
 "nbformat_minor": 5
}
