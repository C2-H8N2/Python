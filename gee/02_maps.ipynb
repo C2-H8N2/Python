{
  "cells": [
    {
      "cell_type": "markdown",
      "id": "chy5F8iO0eJA",
      "metadata": {
        "id": "chy5F8iO0eJA"
      },
      "source": [
        "# Creating Interactive Maps\n",
        "\n",
        "```{contents}\n",
        ":local:\n",
        ":depth: 2\n",
        "```\n",
        "\n",
        "## Introduction\n",
        "\n",
        "## Technical requirements\n",
        "\n",
        "```bash\n",
        "conda create -n gee python\n",
        "conda activate gee\n",
        "conda install -c conda-forge mamba\n",
        "mamba install -c conda-forge pygis\n",
        "```\n",
        "\n",
        "```bash\n",
        "jupyter lab\n",
        "```"
      ]
    },
    {
      "cell_type": "code",
      "execution_count": null,
      "id": "YPg84un60eJB",
      "metadata": {
        "id": "YPg84un60eJB"
      },
      "outputs": [],
      "source": [
        "#pip install pygis"
      ]
    },
    {
      "cell_type": "code",
      "execution_count": 1,
      "id": "Q89WF5bO0eJC",
      "metadata": {
        "id": "Q89WF5bO0eJC"
      },
      "outputs": [
        {
          "name": "stderr",
          "output_type": "stream",
          "text": [
            "c:\\Python3.12.6\\Lib\\site-packages\\ee\\main.py:150: SyntaxWarning: invalid escape sequence '\\d'\n",
            "  lines = filter(lambda x: re.match(\"^\\d+ bytes\", x), data.splitlines())\n"
          ]
        },
        {
          "ename": "ModuleNotFoundError",
          "evalue": "No module named '_curses'",
          "output_type": "error",
          "traceback": [
            "\u001b[1;31m---------------------------------------------------------------------------\u001b[0m",
            "\u001b[1;31mModuleNotFoundError\u001b[0m                       Traceback (most recent call last)",
            "Cell \u001b[1;32mIn[1], line 1\u001b[0m\n\u001b[1;32m----> 1\u001b[0m \u001b[38;5;28;01mimport\u001b[39;00m \u001b[38;5;21;01mee\u001b[39;00m\n\u001b[0;32m      2\u001b[0m \u001b[38;5;28;01mimport\u001b[39;00m \u001b[38;5;21;01mgeemap\u001b[39;00m\n",
            "File \u001b[1;32mc:\\Python3.12.6\\Lib\\site-packages\\ee\\__init__.py:1\u001b[0m\n\u001b[1;32m----> 1\u001b[0m \u001b[38;5;28;01mfrom\u001b[39;00m \u001b[38;5;21;01m.\u001b[39;00m\u001b[38;5;21;01mmain\u001b[39;00m \u001b[38;5;28;01mimport\u001b[39;00m main\n",
            "File \u001b[1;32mc:\\Python3.12.6\\Lib\\site-packages\\ee\\main.py:5\u001b[0m\n\u001b[0;32m      3\u001b[0m \u001b[38;5;28;01mimport\u001b[39;00m \u001b[38;5;21;01msubprocess\u001b[39;00m\n\u001b[0;32m      4\u001b[0m \u001b[38;5;28;01mimport\u001b[39;00m \u001b[38;5;21;01msys\u001b[39;00m\n\u001b[1;32m----> 5\u001b[0m \u001b[38;5;28;01mimport\u001b[39;00m \u001b[38;5;21;01mblessings\u001b[39;00m\n\u001b[0;32m      6\u001b[0m \u001b[38;5;28;01mimport\u001b[39;00m \u001b[38;5;21;01mre\u001b[39;00m\n\u001b[0;32m      7\u001b[0m \u001b[38;5;28;01mimport\u001b[39;00m \u001b[38;5;21;01mos\u001b[39;00m\n",
            "File \u001b[1;32mc:\\Python3.12.6\\Lib\\site-packages\\blessings\\__init__.py:5\u001b[0m\n\u001b[0;32m      1\u001b[0m \u001b[38;5;124;03m\"\"\"A thin, practical wrapper around terminal coloring, styling, and\u001b[39;00m\n\u001b[0;32m      2\u001b[0m \u001b[38;5;124;03mpositioning\"\"\"\u001b[39;00m\n\u001b[0;32m      4\u001b[0m \u001b[38;5;28;01mfrom\u001b[39;00m \u001b[38;5;21;01mcontextlib\u001b[39;00m \u001b[38;5;28;01mimport\u001b[39;00m contextmanager\n\u001b[1;32m----> 5\u001b[0m \u001b[38;5;28;01mimport\u001b[39;00m \u001b[38;5;21;01mcurses\u001b[39;00m\n\u001b[0;32m      6\u001b[0m \u001b[38;5;28;01mfrom\u001b[39;00m \u001b[38;5;21;01mcurses\u001b[39;00m \u001b[38;5;28;01mimport\u001b[39;00m setupterm, tigetnum, tigetstr, tparm\n\u001b[0;32m      7\u001b[0m \u001b[38;5;28;01mfrom\u001b[39;00m \u001b[38;5;21;01mfcntl\u001b[39;00m \u001b[38;5;28;01mimport\u001b[39;00m ioctl\n",
            "File \u001b[1;32mc:\\Python3.12.6\\Lib\\curses\\__init__.py:13\u001b[0m\n\u001b[0;32m      1\u001b[0m \u001b[38;5;124;03m\"\"\"curses\u001b[39;00m\n\u001b[0;32m      2\u001b[0m \n\u001b[0;32m      3\u001b[0m \u001b[38;5;124;03mThe main package for curses support for Python.  Normally used by importing\u001b[39;00m\n\u001b[1;32m   (...)\u001b[0m\n\u001b[0;32m     10\u001b[0m \n\u001b[0;32m     11\u001b[0m \u001b[38;5;124;03m\"\"\"\u001b[39;00m\n\u001b[1;32m---> 13\u001b[0m \u001b[38;5;28;01mfrom\u001b[39;00m \u001b[38;5;21;01m_curses\u001b[39;00m \u001b[38;5;28;01mimport\u001b[39;00m \u001b[38;5;241m*\u001b[39m\n\u001b[0;32m     14\u001b[0m \u001b[38;5;28;01mimport\u001b[39;00m \u001b[38;5;21;01mos\u001b[39;00m \u001b[38;5;28;01mas\u001b[39;00m \u001b[38;5;21;01m_os\u001b[39;00m\n\u001b[0;32m     15\u001b[0m \u001b[38;5;28;01mimport\u001b[39;00m \u001b[38;5;21;01msys\u001b[39;00m \u001b[38;5;28;01mas\u001b[39;00m \u001b[38;5;21;01m_sys\u001b[39;00m\n",
            "\u001b[1;31mModuleNotFoundError\u001b[0m: No module named '_curses'"
          ]
        }
      ],
      "source": [
        "import ee\n",
        "import geemap"
      ]
    },
    {
      "cell_type": "code",
      "execution_count": 2,
      "id": "Cd8tO9P10eJC",
      "metadata": {
        "id": "Cd8tO9P10eJC"
      },
      "outputs": [
        {
          "ename": "NameError",
          "evalue": "name 'geemap' is not defined",
          "output_type": "error",
          "traceback": [
            "\u001b[1;31m---------------------------------------------------------------------------\u001b[0m",
            "\u001b[1;31mNameError\u001b[0m                                 Traceback (most recent call last)",
            "Cell \u001b[1;32mIn[2], line 1\u001b[0m\n\u001b[1;32m----> 1\u001b[0m \u001b[43mgeemap\u001b[49m\u001b[38;5;241m.\u001b[39mee_initialize()\n",
            "\u001b[1;31mNameError\u001b[0m: name 'geemap' is not defined"
          ]
        }
      ],
      "source": [
        "geemap.ee_initialize()"
      ]
    },
    {
      "cell_type": "markdown",
      "id": "ipDyTXCJ0eJD",
      "metadata": {
        "id": "ipDyTXCJ0eJD"
      },
      "source": [
        "## Plotting backends\n",
        "\n",
        "### Ipyleaflet"
      ]
    },
    {
      "cell_type": "code",
      "execution_count": 1,
      "id": "NCMp0CU40eJD",
      "metadata": {
        "id": "NCMp0CU40eJD"
      },
      "outputs": [],
      "source": [
        "import geemap"
      ]
    },
    {
      "cell_type": "code",
      "execution_count": 2,
      "id": "OgKGXtxB0eJD",
      "metadata": {
        "id": "OgKGXtxB0eJD"
      },
      "outputs": [
        {
          "data": {
            "text/html": [
              "\n",
              "            <style>\n",
              "                .geemap-dark {\n",
              "                    --jp-widgets-color: white;\n",
              "                    --jp-widgets-label-color: white;\n",
              "                    --jp-ui-font-color1: white;\n",
              "                    --jp-layout-color2: #454545;\n",
              "                    background-color: #383838;\n",
              "                }\n",
              "\n",
              "                .geemap-dark .jupyter-button {\n",
              "                    --jp-layout-color3: #383838;\n",
              "                }\n",
              "\n",
              "                .geemap-colab {\n",
              "                    background-color: var(--colab-primary-surface-color, white);\n",
              "                }\n",
              "\n",
              "                .geemap-colab .jupyter-button {\n",
              "                    --jp-layout-color3: var(--colab-primary-surface-color, white);\n",
              "                }\n",
              "            </style>\n",
              "            "
            ],
            "text/plain": [
              "<IPython.core.display.HTML object>"
            ]
          },
          "metadata": {},
          "output_type": "display_data"
        },
        {
          "ename": "KeyboardInterrupt",
          "evalue": "",
          "output_type": "error",
          "traceback": [
            "\u001b[1;31m---------------------------------------------------------------------------\u001b[0m",
            "\u001b[1;31mTimeoutError\u001b[0m                              Traceback (most recent call last)",
            "File \u001b[1;32md:\\Anaconda\\envs\\gee\\Lib\\site-packages\\urllib3\\util\\connection.py:73\u001b[0m, in \u001b[0;36mcreate_connection\u001b[1;34m(address, timeout, source_address, socket_options)\u001b[0m\n\u001b[0;32m     72\u001b[0m     sock\u001b[38;5;241m.\u001b[39mbind(source_address)\n\u001b[1;32m---> 73\u001b[0m \u001b[43msock\u001b[49m\u001b[38;5;241;43m.\u001b[39;49m\u001b[43mconnect\u001b[49m\u001b[43m(\u001b[49m\u001b[43msa\u001b[49m\u001b[43m)\u001b[49m\n\u001b[0;32m     74\u001b[0m \u001b[38;5;66;03m# Break explicitly a reference cycle\u001b[39;00m\n",
            "\u001b[1;31mTimeoutError\u001b[0m: [WinError 10060] 由于连接方在一段时间后没有正确答复或连接的主机没有反应，连接尝试失败。",
            "\nDuring handling of the above exception, another exception occurred:\n",
            "\u001b[1;31mKeyboardInterrupt\u001b[0m                         Traceback (most recent call last)",
            "Cell \u001b[1;32mIn[2], line 1\u001b[0m\n\u001b[1;32m----> 1\u001b[0m Map \u001b[38;5;241m=\u001b[39m \u001b[43mgeemap\u001b[49m\u001b[38;5;241;43m.\u001b[39;49m\u001b[43mMap\u001b[49m\u001b[43m(\u001b[49m\u001b[43m)\u001b[49m\n",
            "File \u001b[1;32md:\\Anaconda\\envs\\gee\\Lib\\site-packages\\geemap\\geemap.py:159\u001b[0m, in \u001b[0;36mMap.__init__\u001b[1;34m(self, **kwargs)\u001b[0m\n\u001b[0;32m    157\u001b[0m \u001b[38;5;28mself\u001b[39m\u001b[38;5;241m.\u001b[39m_USER_AGENT_PREFIX \u001b[38;5;241m=\u001b[39m \u001b[38;5;124m\"\u001b[39m\u001b[38;5;124mgeemap\u001b[39m\u001b[38;5;124m\"\u001b[39m\n\u001b[0;32m    158\u001b[0m \u001b[38;5;28mself\u001b[39m\u001b[38;5;241m.\u001b[39mkwargs \u001b[38;5;241m=\u001b[39m kwargs\n\u001b[1;32m--> 159\u001b[0m \u001b[38;5;28;43msuper\u001b[39;49m\u001b[43m(\u001b[49m\u001b[43m)\u001b[49m\u001b[38;5;241;43m.\u001b[39;49m\u001b[38;5;21;43m__init__\u001b[39;49m\u001b[43m(\u001b[49m\u001b[38;5;241;43m*\u001b[39;49m\u001b[38;5;241;43m*\u001b[39;49m\u001b[43mkwargs\u001b[49m\u001b[43m)\u001b[49m\n\u001b[0;32m    160\u001b[0m \u001b[38;5;28mself\u001b[39m\u001b[38;5;241m.\u001b[39m_var_name \u001b[38;5;241m=\u001b[39m \u001b[38;5;124m\"\u001b[39m\u001b[38;5;124mMap\u001b[39m\u001b[38;5;124m\"\u001b[39m  \u001b[38;5;66;03m# The Map variable name for converting JS to Python\u001b[39;00m\n\u001b[0;32m    162\u001b[0m \u001b[38;5;28;01mif\u001b[39;00m kwargs\u001b[38;5;241m.\u001b[39mget(\u001b[38;5;124m\"\u001b[39m\u001b[38;5;124mheight\u001b[39m\u001b[38;5;124m\"\u001b[39m):\n",
            "File \u001b[1;32md:\\Anaconda\\envs\\gee\\Lib\\site-packages\\geemap\\core.py:729\u001b[0m, in \u001b[0;36mMap.__init__\u001b[1;34m(self, **kwargs)\u001b[0m\n\u001b[0;32m    727\u001b[0m \u001b[38;5;66;03m# Authenticate and initialize EE.\u001b[39;00m\n\u001b[0;32m    728\u001b[0m \u001b[38;5;28;01mif\u001b[39;00m kwargs\u001b[38;5;241m.\u001b[39mget(\u001b[38;5;124m\"\u001b[39m\u001b[38;5;124mee_initialize\u001b[39m\u001b[38;5;124m\"\u001b[39m, \u001b[38;5;28;01mTrue\u001b[39;00m):\n\u001b[1;32m--> 729\u001b[0m     \u001b[43mcoreutils\u001b[49m\u001b[38;5;241;43m.\u001b[39;49m\u001b[43mee_initialize\u001b[49m\u001b[43m(\u001b[49m\u001b[43muser_agent_prefix\u001b[49m\u001b[38;5;241;43m=\u001b[39;49m\u001b[38;5;28;43mself\u001b[39;49m\u001b[38;5;241;43m.\u001b[39;49m\u001b[43m_USER_AGENT_PREFIX\u001b[49m\u001b[43m)\u001b[49m\n\u001b[0;32m    731\u001b[0m \u001b[38;5;66;03m# Listen for layers being added/removed so we can update the layer manager.\u001b[39;00m\n\u001b[0;32m    732\u001b[0m \u001b[38;5;28mself\u001b[39m\u001b[38;5;241m.\u001b[39mobserve(\u001b[38;5;28mself\u001b[39m\u001b[38;5;241m.\u001b[39m_on_layers_change, \u001b[38;5;124m\"\u001b[39m\u001b[38;5;124mlayers\u001b[39m\u001b[38;5;124m\"\u001b[39m)\n",
            "File \u001b[1;32md:\\Anaconda\\envs\\gee\\Lib\\site-packages\\geemap\\coreutils.py:113\u001b[0m, in \u001b[0;36mee_initialize\u001b[1;34m(token_name, auth_mode, auth_args, user_agent_prefix, project, **kwargs)\u001b[0m\n\u001b[0;32m    109\u001b[0m         auth_mode \u001b[38;5;241m=\u001b[39m \u001b[38;5;124m\"\u001b[39m\u001b[38;5;124mnotebook\u001b[39m\u001b[38;5;124m\"\u001b[39m\n\u001b[0;32m    111\u001b[0m auth_args[\u001b[38;5;124m\"\u001b[39m\u001b[38;5;124mauth_mode\u001b[39m\u001b[38;5;124m\"\u001b[39m] \u001b[38;5;241m=\u001b[39m auth_mode\n\u001b[1;32m--> 113\u001b[0m \u001b[43mee\u001b[49m\u001b[38;5;241;43m.\u001b[39;49m\u001b[43mAuthenticate\u001b[49m\u001b[43m(\u001b[49m\u001b[38;5;241;43m*\u001b[39;49m\u001b[38;5;241;43m*\u001b[39;49m\u001b[43mauth_args\u001b[49m\u001b[43m)\u001b[49m\n\u001b[0;32m    114\u001b[0m ee\u001b[38;5;241m.\u001b[39mInitialize(\u001b[38;5;241m*\u001b[39m\u001b[38;5;241m*\u001b[39mkwargs)\n",
            "File \u001b[1;32md:\\Anaconda\\envs\\gee\\Lib\\site-packages\\ee\\__init__.py:125\u001b[0m, in \u001b[0;36mAuthenticate\u001b[1;34m(authorization_code, quiet, code_verifier, auth_mode, scopes, force)\u001b[0m\n\u001b[0;32m     94\u001b[0m \u001b[38;5;28;01mdef\u001b[39;00m \u001b[38;5;21mAuthenticate\u001b[39m(\n\u001b[0;32m     95\u001b[0m     authorization_code: Optional[\u001b[38;5;28mstr\u001b[39m] \u001b[38;5;241m=\u001b[39m \u001b[38;5;28;01mNone\u001b[39;00m,\n\u001b[0;32m     96\u001b[0m     quiet: Optional[\u001b[38;5;28mbool\u001b[39m] \u001b[38;5;241m=\u001b[39m \u001b[38;5;28;01mNone\u001b[39;00m,\n\u001b[1;32m   (...)\u001b[0m\n\u001b[0;32m    100\u001b[0m     force: \u001b[38;5;28mbool\u001b[39m \u001b[38;5;241m=\u001b[39m \u001b[38;5;28;01mFalse\u001b[39;00m,\n\u001b[0;32m    101\u001b[0m ) \u001b[38;5;241m-\u001b[39m\u001b[38;5;241m>\u001b[39m Optional[\u001b[38;5;28mbool\u001b[39m]:\n\u001b[0;32m    102\u001b[0m \u001b[38;5;250m  \u001b[39m\u001b[38;5;124;03m\"\"\"Prompts the user to authorize access to Earth Engine via OAuth2.\u001b[39;00m\n\u001b[0;32m    103\u001b[0m \n\u001b[0;32m    104\u001b[0m \u001b[38;5;124;03m  Args:\u001b[39;00m\n\u001b[1;32m   (...)\u001b[0m\n\u001b[0;32m    123\u001b[0m \u001b[38;5;124;03m    True if we found valid credentials and didn't run the auth flow.\u001b[39;00m\n\u001b[0;32m    124\u001b[0m \u001b[38;5;124;03m  \"\"\"\u001b[39;00m\n\u001b[1;32m--> 125\u001b[0m   \u001b[38;5;28;01mreturn\u001b[39;00m \u001b[43moauth\u001b[49m\u001b[38;5;241;43m.\u001b[39;49m\u001b[43mauthenticate\u001b[49m\u001b[43m(\u001b[49m\u001b[43mauthorization_code\u001b[49m\u001b[43m,\u001b[49m\u001b[43m \u001b[49m\u001b[43mquiet\u001b[49m\u001b[43m,\u001b[49m\u001b[43m \u001b[49m\u001b[43mcode_verifier\u001b[49m\u001b[43m,\u001b[49m\u001b[43m \u001b[49m\u001b[43mauth_mode\u001b[49m\u001b[43m,\u001b[49m\n\u001b[0;32m    126\u001b[0m \u001b[43m                            \u001b[49m\u001b[43mscopes\u001b[49m\u001b[43m,\u001b[49m\u001b[43m \u001b[49m\u001b[43mforce\u001b[49m\u001b[43m)\u001b[49m\n",
            "File \u001b[1;32md:\\Anaconda\\envs\\gee\\Lib\\site-packages\\ee\\oauth.py:506\u001b[0m, in \u001b[0;36mauthenticate\u001b[1;34m(cli_authorization_code, quiet, cli_code_verifier, auth_mode, scopes, force)\u001b[0m\n\u001b[0;32m    503\u001b[0m   _obtain_and_write_token(cli_authorization_code, cli_code_verifier, scopes)\n\u001b[0;32m    504\u001b[0m   \u001b[38;5;28;01mreturn\u001b[39;00m\n\u001b[1;32m--> 506\u001b[0m \u001b[38;5;28;01mif\u001b[39;00m \u001b[38;5;129;01mnot\u001b[39;00m force \u001b[38;5;129;01mand\u001b[39;00m \u001b[43m_valid_credentials_exist\u001b[49m\u001b[43m(\u001b[49m\u001b[43m)\u001b[49m:\n\u001b[0;32m    507\u001b[0m   \u001b[38;5;28;01mreturn\u001b[39;00m \u001b[38;5;28;01mTrue\u001b[39;00m\n\u001b[0;32m    509\u001b[0m \u001b[38;5;28;01mif\u001b[39;00m \u001b[38;5;129;01mnot\u001b[39;00m auth_mode:\n",
            "File \u001b[1;32md:\\Anaconda\\envs\\gee\\Lib\\site-packages\\ee\\oauth.py:123\u001b[0m, in \u001b[0;36m_valid_credentials_exist\u001b[1;34m()\u001b[0m\n\u001b[0;32m    121\u001b[0m \u001b[38;5;28;01mdef\u001b[39;00m \u001b[38;5;21m_valid_credentials_exist\u001b[39m() \u001b[38;5;241m-\u001b[39m\u001b[38;5;241m>\u001b[39m \u001b[38;5;28mbool\u001b[39m:\n\u001b[0;32m    122\u001b[0m   \u001b[38;5;28;01mtry\u001b[39;00m:\n\u001b[1;32m--> 123\u001b[0m     creds \u001b[38;5;241m=\u001b[39m \u001b[43mee_data\u001b[49m\u001b[38;5;241;43m.\u001b[39;49m\u001b[43mget_persistent_credentials\u001b[49m\u001b[43m(\u001b[49m\u001b[43m)\u001b[49m\n\u001b[0;32m    124\u001b[0m     \u001b[38;5;28;01mreturn\u001b[39;00m is_valid_credentials(creds)\n\u001b[0;32m    125\u001b[0m   \u001b[38;5;28;01mexcept\u001b[39;00m ee_exception\u001b[38;5;241m.\u001b[39mEEException:\n",
            "File \u001b[1;32md:\\Anaconda\\envs\\gee\\Lib\\site-packages\\ee\\data.py:279\u001b[0m, in \u001b[0;36mget_persistent_credentials\u001b[1;34m()\u001b[0m\n\u001b[0;32m    277\u001b[0m   \u001b[38;5;28;01mif\u001b[39;00m project \u001b[38;5;129;01mand\u001b[39;00m project \u001b[38;5;241m!=\u001b[39m credentials\u001b[38;5;241m.\u001b[39mquota_project_id:\n\u001b[0;32m    278\u001b[0m     credentials \u001b[38;5;241m=\u001b[39m credentials\u001b[38;5;241m.\u001b[39mwith_quota_project(project)\n\u001b[1;32m--> 279\u001b[0m   \u001b[38;5;28;01mif\u001b[39;00m \u001b[43moauth\u001b[49m\u001b[38;5;241;43m.\u001b[39;49m\u001b[43mis_valid_credentials\u001b[49m\u001b[43m(\u001b[49m\u001b[43mcredentials\u001b[49m\u001b[43m)\u001b[49m:\n\u001b[0;32m    280\u001b[0m     \u001b[38;5;28;01mreturn\u001b[39;00m credentials\n\u001b[0;32m    281\u001b[0m \u001b[38;5;28;01mraise\u001b[39;00m ee_exception\u001b[38;5;241m.\u001b[39mEEException(  \u001b[38;5;66;03m# pylint: disable=raise-missing-from\u001b[39;00m\n\u001b[0;32m    282\u001b[0m     \u001b[38;5;124m'\u001b[39m\u001b[38;5;124mPlease authorize access to your Earth Engine account by \u001b[39m\u001b[38;5;124m'\u001b[39m\n\u001b[0;32m    283\u001b[0m     \u001b[38;5;124m'\u001b[39m\u001b[38;5;124mrunning\u001b[39m\u001b[38;5;130;01m\\n\u001b[39;00m\u001b[38;5;130;01m\\n\u001b[39;00m\u001b[38;5;124mearthengine authenticate\u001b[39m\u001b[38;5;130;01m\\n\u001b[39;00m\u001b[38;5;130;01m\\n\u001b[39;00m\u001b[38;5;124m'\u001b[39m\n\u001b[0;32m    284\u001b[0m     \u001b[38;5;124m'\u001b[39m\u001b[38;5;124min your command line, or ee.Authenticate() in Python, and then retry.\u001b[39m\u001b[38;5;124m'\u001b[39m\n\u001b[0;32m    285\u001b[0m )\n",
            "File \u001b[1;32md:\\Anaconda\\envs\\gee\\Lib\\site-packages\\ee\\oauth.py:133\u001b[0m, in \u001b[0;36mis_valid_credentials\u001b[1;34m(credentials)\u001b[0m\n\u001b[0;32m    131\u001b[0m   \u001b[38;5;28;01mreturn\u001b[39;00m \u001b[38;5;28;01mFalse\u001b[39;00m\n\u001b[0;32m    132\u001b[0m \u001b[38;5;28;01mtry\u001b[39;00m:\n\u001b[1;32m--> 133\u001b[0m   \u001b[43mcredentials\u001b[49m\u001b[38;5;241;43m.\u001b[39;49m\u001b[43mrefresh\u001b[49m\u001b[43m(\u001b[49m\u001b[43mgoogle\u001b[49m\u001b[38;5;241;43m.\u001b[39;49m\u001b[43mauth\u001b[49m\u001b[38;5;241;43m.\u001b[39;49m\u001b[43mtransport\u001b[49m\u001b[38;5;241;43m.\u001b[39;49m\u001b[43mrequests\u001b[49m\u001b[38;5;241;43m.\u001b[39;49m\u001b[43mRequest\u001b[49m\u001b[43m(\u001b[49m\u001b[43m)\u001b[49m\u001b[43m)\u001b[49m\n\u001b[0;32m    134\u001b[0m \u001b[38;5;28;01mexcept\u001b[39;00m google\u001b[38;5;241m.\u001b[39mauth\u001b[38;5;241m.\u001b[39mexceptions\u001b[38;5;241m.\u001b[39mRefreshError:\n\u001b[0;32m    135\u001b[0m   \u001b[38;5;28;01mreturn\u001b[39;00m \u001b[38;5;28;01mFalse\u001b[39;00m\n",
            "File \u001b[1;32md:\\Anaconda\\envs\\gee\\Lib\\site-packages\\google\\oauth2\\credentials.py:409\u001b[0m, in \u001b[0;36mCredentials.refresh\u001b[1;34m(self, request)\u001b[0m\n\u001b[0;32m    391\u001b[0m \u001b[38;5;28;01mif\u001b[39;00m (\n\u001b[0;32m    392\u001b[0m     \u001b[38;5;28mself\u001b[39m\u001b[38;5;241m.\u001b[39m_refresh_token \u001b[38;5;129;01mis\u001b[39;00m \u001b[38;5;28;01mNone\u001b[39;00m\n\u001b[0;32m    393\u001b[0m     \u001b[38;5;129;01mor\u001b[39;00m \u001b[38;5;28mself\u001b[39m\u001b[38;5;241m.\u001b[39m_token_uri \u001b[38;5;129;01mis\u001b[39;00m \u001b[38;5;28;01mNone\u001b[39;00m\n\u001b[0;32m    394\u001b[0m     \u001b[38;5;129;01mor\u001b[39;00m \u001b[38;5;28mself\u001b[39m\u001b[38;5;241m.\u001b[39m_client_id \u001b[38;5;129;01mis\u001b[39;00m \u001b[38;5;28;01mNone\u001b[39;00m\n\u001b[0;32m    395\u001b[0m     \u001b[38;5;129;01mor\u001b[39;00m \u001b[38;5;28mself\u001b[39m\u001b[38;5;241m.\u001b[39m_client_secret \u001b[38;5;129;01mis\u001b[39;00m \u001b[38;5;28;01mNone\u001b[39;00m\n\u001b[0;32m    396\u001b[0m ):\n\u001b[0;32m    397\u001b[0m     \u001b[38;5;28;01mraise\u001b[39;00m exceptions\u001b[38;5;241m.\u001b[39mRefreshError(\n\u001b[0;32m    398\u001b[0m         \u001b[38;5;124m\"\u001b[39m\u001b[38;5;124mThe credentials do not contain the necessary fields need to \u001b[39m\u001b[38;5;124m\"\u001b[39m\n\u001b[0;32m    399\u001b[0m         \u001b[38;5;124m\"\u001b[39m\u001b[38;5;124mrefresh the access token. You must specify refresh_token, \u001b[39m\u001b[38;5;124m\"\u001b[39m\n\u001b[0;32m    400\u001b[0m         \u001b[38;5;124m\"\u001b[39m\u001b[38;5;124mtoken_uri, client_id, and client_secret.\u001b[39m\u001b[38;5;124m\"\u001b[39m\n\u001b[0;32m    401\u001b[0m     )\n\u001b[0;32m    403\u001b[0m (\n\u001b[0;32m    404\u001b[0m     access_token,\n\u001b[0;32m    405\u001b[0m     refresh_token,\n\u001b[0;32m    406\u001b[0m     expiry,\n\u001b[0;32m    407\u001b[0m     grant_response,\n\u001b[0;32m    408\u001b[0m     rapt_token,\n\u001b[1;32m--> 409\u001b[0m ) \u001b[38;5;241m=\u001b[39m \u001b[43mreauth\u001b[49m\u001b[38;5;241;43m.\u001b[39;49m\u001b[43mrefresh_grant\u001b[49m\u001b[43m(\u001b[49m\n\u001b[0;32m    410\u001b[0m \u001b[43m    \u001b[49m\u001b[43mrequest\u001b[49m\u001b[43m,\u001b[49m\n\u001b[0;32m    411\u001b[0m \u001b[43m    \u001b[49m\u001b[38;5;28;43mself\u001b[39;49m\u001b[38;5;241;43m.\u001b[39;49m\u001b[43m_token_uri\u001b[49m\u001b[43m,\u001b[49m\n\u001b[0;32m    412\u001b[0m \u001b[43m    \u001b[49m\u001b[38;5;28;43mself\u001b[39;49m\u001b[38;5;241;43m.\u001b[39;49m\u001b[43m_refresh_token\u001b[49m\u001b[43m,\u001b[49m\n\u001b[0;32m    413\u001b[0m \u001b[43m    \u001b[49m\u001b[38;5;28;43mself\u001b[39;49m\u001b[38;5;241;43m.\u001b[39;49m\u001b[43m_client_id\u001b[49m\u001b[43m,\u001b[49m\n\u001b[0;32m    414\u001b[0m \u001b[43m    \u001b[49m\u001b[38;5;28;43mself\u001b[39;49m\u001b[38;5;241;43m.\u001b[39;49m\u001b[43m_client_secret\u001b[49m\u001b[43m,\u001b[49m\n\u001b[0;32m    415\u001b[0m \u001b[43m    \u001b[49m\u001b[43mscopes\u001b[49m\u001b[38;5;241;43m=\u001b[39;49m\u001b[43mscopes\u001b[49m\u001b[43m,\u001b[49m\n\u001b[0;32m    416\u001b[0m \u001b[43m    \u001b[49m\u001b[43mrapt_token\u001b[49m\u001b[38;5;241;43m=\u001b[39;49m\u001b[38;5;28;43mself\u001b[39;49m\u001b[38;5;241;43m.\u001b[39;49m\u001b[43m_rapt_token\u001b[49m\u001b[43m,\u001b[49m\n\u001b[0;32m    417\u001b[0m \u001b[43m    \u001b[49m\u001b[43menable_reauth_refresh\u001b[49m\u001b[38;5;241;43m=\u001b[39;49m\u001b[38;5;28;43mself\u001b[39;49m\u001b[38;5;241;43m.\u001b[39;49m\u001b[43m_enable_reauth_refresh\u001b[49m\u001b[43m,\u001b[49m\n\u001b[0;32m    418\u001b[0m \u001b[43m\u001b[49m\u001b[43m)\u001b[49m\n\u001b[0;32m    420\u001b[0m \u001b[38;5;28mself\u001b[39m\u001b[38;5;241m.\u001b[39mtoken \u001b[38;5;241m=\u001b[39m access_token\n\u001b[0;32m    421\u001b[0m \u001b[38;5;28mself\u001b[39m\u001b[38;5;241m.\u001b[39mexpiry \u001b[38;5;241m=\u001b[39m expiry\n",
            "File \u001b[1;32md:\\Anaconda\\envs\\gee\\Lib\\site-packages\\google\\oauth2\\reauth.py:333\u001b[0m, in \u001b[0;36mrefresh_grant\u001b[1;34m(request, token_uri, refresh_token, client_id, client_secret, scopes, rapt_token, enable_reauth_refresh)\u001b[0m\n\u001b[0;32m    330\u001b[0m     body[\u001b[38;5;124m\"\u001b[39m\u001b[38;5;124mrapt\u001b[39m\u001b[38;5;124m\"\u001b[39m] \u001b[38;5;241m=\u001b[39m rapt_token\n\u001b[0;32m    331\u001b[0m metrics_header \u001b[38;5;241m=\u001b[39m {metrics\u001b[38;5;241m.\u001b[39mAPI_CLIENT_HEADER: metrics\u001b[38;5;241m.\u001b[39mtoken_request_user()}\n\u001b[1;32m--> 333\u001b[0m response_status_ok, response_data, retryable_error \u001b[38;5;241m=\u001b[39m \u001b[43m_client\u001b[49m\u001b[38;5;241;43m.\u001b[39;49m\u001b[43m_token_endpoint_request_no_throw\u001b[49m\u001b[43m(\u001b[49m\n\u001b[0;32m    334\u001b[0m \u001b[43m    \u001b[49m\u001b[43mrequest\u001b[49m\u001b[43m,\u001b[49m\u001b[43m \u001b[49m\u001b[43mtoken_uri\u001b[49m\u001b[43m,\u001b[49m\u001b[43m \u001b[49m\u001b[43mbody\u001b[49m\u001b[43m,\u001b[49m\u001b[43m \u001b[49m\u001b[43mheaders\u001b[49m\u001b[38;5;241;43m=\u001b[39;49m\u001b[43mmetrics_header\u001b[49m\n\u001b[0;32m    335\u001b[0m \u001b[43m\u001b[49m\u001b[43m)\u001b[49m\n\u001b[0;32m    337\u001b[0m \u001b[38;5;28;01mif\u001b[39;00m \u001b[38;5;129;01mnot\u001b[39;00m response_status_ok \u001b[38;5;129;01mand\u001b[39;00m \u001b[38;5;28misinstance\u001b[39m(response_data, \u001b[38;5;28mstr\u001b[39m):\n\u001b[0;32m    338\u001b[0m     \u001b[38;5;28;01mraise\u001b[39;00m exceptions\u001b[38;5;241m.\u001b[39mRefreshError(response_data, retryable\u001b[38;5;241m=\u001b[39m\u001b[38;5;28;01mFalse\u001b[39;00m)\n",
            "File \u001b[1;32md:\\Anaconda\\envs\\gee\\Lib\\site-packages\\google\\oauth2\\_client.py:192\u001b[0m, in \u001b[0;36m_token_endpoint_request_no_throw\u001b[1;34m(request, token_uri, body, access_token, use_json, can_retry, headers, **kwargs)\u001b[0m\n\u001b[0;32m    190\u001b[0m retries \u001b[38;5;241m=\u001b[39m _exponential_backoff\u001b[38;5;241m.\u001b[39mExponentialBackoff()\n\u001b[0;32m    191\u001b[0m \u001b[38;5;28;01mfor\u001b[39;00m _ \u001b[38;5;129;01min\u001b[39;00m retries:\n\u001b[1;32m--> 192\u001b[0m     response \u001b[38;5;241m=\u001b[39m \u001b[43mrequest\u001b[49m\u001b[43m(\u001b[49m\n\u001b[0;32m    193\u001b[0m \u001b[43m        \u001b[49m\u001b[43mmethod\u001b[49m\u001b[38;5;241;43m=\u001b[39;49m\u001b[38;5;124;43m\"\u001b[39;49m\u001b[38;5;124;43mPOST\u001b[39;49m\u001b[38;5;124;43m\"\u001b[39;49m\u001b[43m,\u001b[49m\u001b[43m \u001b[49m\u001b[43murl\u001b[49m\u001b[38;5;241;43m=\u001b[39;49m\u001b[43mtoken_uri\u001b[49m\u001b[43m,\u001b[49m\u001b[43m \u001b[49m\u001b[43mheaders\u001b[49m\u001b[38;5;241;43m=\u001b[39;49m\u001b[43mheaders_to_use\u001b[49m\u001b[43m,\u001b[49m\u001b[43m \u001b[49m\u001b[43mbody\u001b[49m\u001b[38;5;241;43m=\u001b[39;49m\u001b[43mbody\u001b[49m\u001b[43m,\u001b[49m\u001b[43m \u001b[49m\u001b[38;5;241;43m*\u001b[39;49m\u001b[38;5;241;43m*\u001b[39;49m\u001b[43mkwargs\u001b[49m\n\u001b[0;32m    194\u001b[0m \u001b[43m    \u001b[49m\u001b[43m)\u001b[49m\n\u001b[0;32m    195\u001b[0m     response_body \u001b[38;5;241m=\u001b[39m (\n\u001b[0;32m    196\u001b[0m         response\u001b[38;5;241m.\u001b[39mdata\u001b[38;5;241m.\u001b[39mdecode(\u001b[38;5;124m\"\u001b[39m\u001b[38;5;124mutf-8\u001b[39m\u001b[38;5;124m\"\u001b[39m)\n\u001b[0;32m    197\u001b[0m         \u001b[38;5;28;01mif\u001b[39;00m \u001b[38;5;28mhasattr\u001b[39m(response\u001b[38;5;241m.\u001b[39mdata, \u001b[38;5;124m\"\u001b[39m\u001b[38;5;124mdecode\u001b[39m\u001b[38;5;124m\"\u001b[39m)\n\u001b[0;32m    198\u001b[0m         \u001b[38;5;28;01melse\u001b[39;00m response\u001b[38;5;241m.\u001b[39mdata\n\u001b[0;32m    199\u001b[0m     )\n\u001b[0;32m    201\u001b[0m     \u001b[38;5;28;01mtry\u001b[39;00m:\n\u001b[0;32m    202\u001b[0m         \u001b[38;5;66;03m# response_body should be a JSON\u001b[39;00m\n",
            "File \u001b[1;32md:\\Anaconda\\envs\\gee\\Lib\\site-packages\\google\\auth\\transport\\requests.py:186\u001b[0m, in \u001b[0;36mRequest.__call__\u001b[1;34m(self, url, method, body, headers, timeout, **kwargs)\u001b[0m\n\u001b[0;32m    184\u001b[0m \u001b[38;5;28;01mtry\u001b[39;00m:\n\u001b[0;32m    185\u001b[0m     _LOGGER\u001b[38;5;241m.\u001b[39mdebug(\u001b[38;5;124m\"\u001b[39m\u001b[38;5;124mMaking request: \u001b[39m\u001b[38;5;132;01m%s\u001b[39;00m\u001b[38;5;124m \u001b[39m\u001b[38;5;132;01m%s\u001b[39;00m\u001b[38;5;124m\"\u001b[39m, method, url)\n\u001b[1;32m--> 186\u001b[0m     response \u001b[38;5;241m=\u001b[39m \u001b[38;5;28;43mself\u001b[39;49m\u001b[38;5;241;43m.\u001b[39;49m\u001b[43msession\u001b[49m\u001b[38;5;241;43m.\u001b[39;49m\u001b[43mrequest\u001b[49m\u001b[43m(\u001b[49m\n\u001b[0;32m    187\u001b[0m \u001b[43m        \u001b[49m\u001b[43mmethod\u001b[49m\u001b[43m,\u001b[49m\u001b[43m \u001b[49m\u001b[43murl\u001b[49m\u001b[43m,\u001b[49m\u001b[43m \u001b[49m\u001b[43mdata\u001b[49m\u001b[38;5;241;43m=\u001b[39;49m\u001b[43mbody\u001b[49m\u001b[43m,\u001b[49m\u001b[43m \u001b[49m\u001b[43mheaders\u001b[49m\u001b[38;5;241;43m=\u001b[39;49m\u001b[43mheaders\u001b[49m\u001b[43m,\u001b[49m\u001b[43m \u001b[49m\u001b[43mtimeout\u001b[49m\u001b[38;5;241;43m=\u001b[39;49m\u001b[43mtimeout\u001b[49m\u001b[43m,\u001b[49m\u001b[43m \u001b[49m\u001b[38;5;241;43m*\u001b[39;49m\u001b[38;5;241;43m*\u001b[39;49m\u001b[43mkwargs\u001b[49m\n\u001b[0;32m    188\u001b[0m \u001b[43m    \u001b[49m\u001b[43m)\u001b[49m\n\u001b[0;32m    189\u001b[0m     \u001b[38;5;28;01mreturn\u001b[39;00m _Response(response)\n\u001b[0;32m    190\u001b[0m \u001b[38;5;28;01mexcept\u001b[39;00m requests\u001b[38;5;241m.\u001b[39mexceptions\u001b[38;5;241m.\u001b[39mRequestException \u001b[38;5;28;01mas\u001b[39;00m caught_exc:\n",
            "File \u001b[1;32md:\\Anaconda\\envs\\gee\\Lib\\site-packages\\requests\\sessions.py:589\u001b[0m, in \u001b[0;36mSession.request\u001b[1;34m(self, method, url, params, data, headers, cookies, files, auth, timeout, allow_redirects, proxies, hooks, stream, verify, cert, json)\u001b[0m\n\u001b[0;32m    584\u001b[0m send_kwargs \u001b[38;5;241m=\u001b[39m {\n\u001b[0;32m    585\u001b[0m     \u001b[38;5;124m\"\u001b[39m\u001b[38;5;124mtimeout\u001b[39m\u001b[38;5;124m\"\u001b[39m: timeout,\n\u001b[0;32m    586\u001b[0m     \u001b[38;5;124m\"\u001b[39m\u001b[38;5;124mallow_redirects\u001b[39m\u001b[38;5;124m\"\u001b[39m: allow_redirects,\n\u001b[0;32m    587\u001b[0m }\n\u001b[0;32m    588\u001b[0m send_kwargs\u001b[38;5;241m.\u001b[39mupdate(settings)\n\u001b[1;32m--> 589\u001b[0m resp \u001b[38;5;241m=\u001b[39m \u001b[38;5;28;43mself\u001b[39;49m\u001b[38;5;241;43m.\u001b[39;49m\u001b[43msend\u001b[49m\u001b[43m(\u001b[49m\u001b[43mprep\u001b[49m\u001b[43m,\u001b[49m\u001b[43m \u001b[49m\u001b[38;5;241;43m*\u001b[39;49m\u001b[38;5;241;43m*\u001b[39;49m\u001b[43msend_kwargs\u001b[49m\u001b[43m)\u001b[49m\n\u001b[0;32m    591\u001b[0m \u001b[38;5;28;01mreturn\u001b[39;00m resp\n",
            "File \u001b[1;32md:\\Anaconda\\envs\\gee\\Lib\\site-packages\\requests\\sessions.py:703\u001b[0m, in \u001b[0;36mSession.send\u001b[1;34m(self, request, **kwargs)\u001b[0m\n\u001b[0;32m    700\u001b[0m start \u001b[38;5;241m=\u001b[39m preferred_clock()\n\u001b[0;32m    702\u001b[0m \u001b[38;5;66;03m# Send the request\u001b[39;00m\n\u001b[1;32m--> 703\u001b[0m r \u001b[38;5;241m=\u001b[39m \u001b[43madapter\u001b[49m\u001b[38;5;241;43m.\u001b[39;49m\u001b[43msend\u001b[49m\u001b[43m(\u001b[49m\u001b[43mrequest\u001b[49m\u001b[43m,\u001b[49m\u001b[43m \u001b[49m\u001b[38;5;241;43m*\u001b[39;49m\u001b[38;5;241;43m*\u001b[39;49m\u001b[43mkwargs\u001b[49m\u001b[43m)\u001b[49m\n\u001b[0;32m    705\u001b[0m \u001b[38;5;66;03m# Total elapsed time of the request (approximately)\u001b[39;00m\n\u001b[0;32m    706\u001b[0m elapsed \u001b[38;5;241m=\u001b[39m preferred_clock() \u001b[38;5;241m-\u001b[39m start\n",
            "File \u001b[1;32md:\\Anaconda\\envs\\gee\\Lib\\site-packages\\requests\\adapters.py:667\u001b[0m, in \u001b[0;36mHTTPAdapter.send\u001b[1;34m(self, request, stream, timeout, verify, cert, proxies)\u001b[0m\n\u001b[0;32m    664\u001b[0m     timeout \u001b[38;5;241m=\u001b[39m TimeoutSauce(connect\u001b[38;5;241m=\u001b[39mtimeout, read\u001b[38;5;241m=\u001b[39mtimeout)\n\u001b[0;32m    666\u001b[0m \u001b[38;5;28;01mtry\u001b[39;00m:\n\u001b[1;32m--> 667\u001b[0m     resp \u001b[38;5;241m=\u001b[39m \u001b[43mconn\u001b[49m\u001b[38;5;241;43m.\u001b[39;49m\u001b[43murlopen\u001b[49m\u001b[43m(\u001b[49m\n\u001b[0;32m    668\u001b[0m \u001b[43m        \u001b[49m\u001b[43mmethod\u001b[49m\u001b[38;5;241;43m=\u001b[39;49m\u001b[43mrequest\u001b[49m\u001b[38;5;241;43m.\u001b[39;49m\u001b[43mmethod\u001b[49m\u001b[43m,\u001b[49m\n\u001b[0;32m    669\u001b[0m \u001b[43m        \u001b[49m\u001b[43murl\u001b[49m\u001b[38;5;241;43m=\u001b[39;49m\u001b[43murl\u001b[49m\u001b[43m,\u001b[49m\n\u001b[0;32m    670\u001b[0m \u001b[43m        \u001b[49m\u001b[43mbody\u001b[49m\u001b[38;5;241;43m=\u001b[39;49m\u001b[43mrequest\u001b[49m\u001b[38;5;241;43m.\u001b[39;49m\u001b[43mbody\u001b[49m\u001b[43m,\u001b[49m\n\u001b[0;32m    671\u001b[0m \u001b[43m        \u001b[49m\u001b[43mheaders\u001b[49m\u001b[38;5;241;43m=\u001b[39;49m\u001b[43mrequest\u001b[49m\u001b[38;5;241;43m.\u001b[39;49m\u001b[43mheaders\u001b[49m\u001b[43m,\u001b[49m\n\u001b[0;32m    672\u001b[0m \u001b[43m        \u001b[49m\u001b[43mredirect\u001b[49m\u001b[38;5;241;43m=\u001b[39;49m\u001b[38;5;28;43;01mFalse\u001b[39;49;00m\u001b[43m,\u001b[49m\n\u001b[0;32m    673\u001b[0m \u001b[43m        \u001b[49m\u001b[43massert_same_host\u001b[49m\u001b[38;5;241;43m=\u001b[39;49m\u001b[38;5;28;43;01mFalse\u001b[39;49;00m\u001b[43m,\u001b[49m\n\u001b[0;32m    674\u001b[0m \u001b[43m        \u001b[49m\u001b[43mpreload_content\u001b[49m\u001b[38;5;241;43m=\u001b[39;49m\u001b[38;5;28;43;01mFalse\u001b[39;49;00m\u001b[43m,\u001b[49m\n\u001b[0;32m    675\u001b[0m \u001b[43m        \u001b[49m\u001b[43mdecode_content\u001b[49m\u001b[38;5;241;43m=\u001b[39;49m\u001b[38;5;28;43;01mFalse\u001b[39;49;00m\u001b[43m,\u001b[49m\n\u001b[0;32m    676\u001b[0m \u001b[43m        \u001b[49m\u001b[43mretries\u001b[49m\u001b[38;5;241;43m=\u001b[39;49m\u001b[38;5;28;43mself\u001b[39;49m\u001b[38;5;241;43m.\u001b[39;49m\u001b[43mmax_retries\u001b[49m\u001b[43m,\u001b[49m\n\u001b[0;32m    677\u001b[0m \u001b[43m        \u001b[49m\u001b[43mtimeout\u001b[49m\u001b[38;5;241;43m=\u001b[39;49m\u001b[43mtimeout\u001b[49m\u001b[43m,\u001b[49m\n\u001b[0;32m    678\u001b[0m \u001b[43m        \u001b[49m\u001b[43mchunked\u001b[49m\u001b[38;5;241;43m=\u001b[39;49m\u001b[43mchunked\u001b[49m\u001b[43m,\u001b[49m\n\u001b[0;32m    679\u001b[0m \u001b[43m    \u001b[49m\u001b[43m)\u001b[49m\n\u001b[0;32m    681\u001b[0m \u001b[38;5;28;01mexcept\u001b[39;00m (ProtocolError, \u001b[38;5;167;01mOSError\u001b[39;00m) \u001b[38;5;28;01mas\u001b[39;00m err:\n\u001b[0;32m    682\u001b[0m     \u001b[38;5;28;01mraise\u001b[39;00m \u001b[38;5;167;01mConnectionError\u001b[39;00m(err, request\u001b[38;5;241m=\u001b[39mrequest)\n",
            "File \u001b[1;32md:\\Anaconda\\envs\\gee\\Lib\\site-packages\\urllib3\\connectionpool.py:789\u001b[0m, in \u001b[0;36mHTTPConnectionPool.urlopen\u001b[1;34m(self, method, url, body, headers, retries, redirect, assert_same_host, timeout, pool_timeout, release_conn, chunked, body_pos, preload_content, decode_content, **response_kw)\u001b[0m\n\u001b[0;32m    786\u001b[0m response_conn \u001b[38;5;241m=\u001b[39m conn \u001b[38;5;28;01mif\u001b[39;00m \u001b[38;5;129;01mnot\u001b[39;00m release_conn \u001b[38;5;28;01melse\u001b[39;00m \u001b[38;5;28;01mNone\u001b[39;00m\n\u001b[0;32m    788\u001b[0m \u001b[38;5;66;03m# Make the request on the HTTPConnection object\u001b[39;00m\n\u001b[1;32m--> 789\u001b[0m response \u001b[38;5;241m=\u001b[39m \u001b[38;5;28;43mself\u001b[39;49m\u001b[38;5;241;43m.\u001b[39;49m\u001b[43m_make_request\u001b[49m\u001b[43m(\u001b[49m\n\u001b[0;32m    790\u001b[0m \u001b[43m    \u001b[49m\u001b[43mconn\u001b[49m\u001b[43m,\u001b[49m\n\u001b[0;32m    791\u001b[0m \u001b[43m    \u001b[49m\u001b[43mmethod\u001b[49m\u001b[43m,\u001b[49m\n\u001b[0;32m    792\u001b[0m \u001b[43m    \u001b[49m\u001b[43murl\u001b[49m\u001b[43m,\u001b[49m\n\u001b[0;32m    793\u001b[0m \u001b[43m    \u001b[49m\u001b[43mtimeout\u001b[49m\u001b[38;5;241;43m=\u001b[39;49m\u001b[43mtimeout_obj\u001b[49m\u001b[43m,\u001b[49m\n\u001b[0;32m    794\u001b[0m \u001b[43m    \u001b[49m\u001b[43mbody\u001b[49m\u001b[38;5;241;43m=\u001b[39;49m\u001b[43mbody\u001b[49m\u001b[43m,\u001b[49m\n\u001b[0;32m    795\u001b[0m \u001b[43m    \u001b[49m\u001b[43mheaders\u001b[49m\u001b[38;5;241;43m=\u001b[39;49m\u001b[43mheaders\u001b[49m\u001b[43m,\u001b[49m\n\u001b[0;32m    796\u001b[0m \u001b[43m    \u001b[49m\u001b[43mchunked\u001b[49m\u001b[38;5;241;43m=\u001b[39;49m\u001b[43mchunked\u001b[49m\u001b[43m,\u001b[49m\n\u001b[0;32m    797\u001b[0m \u001b[43m    \u001b[49m\u001b[43mretries\u001b[49m\u001b[38;5;241;43m=\u001b[39;49m\u001b[43mretries\u001b[49m\u001b[43m,\u001b[49m\n\u001b[0;32m    798\u001b[0m \u001b[43m    \u001b[49m\u001b[43mresponse_conn\u001b[49m\u001b[38;5;241;43m=\u001b[39;49m\u001b[43mresponse_conn\u001b[49m\u001b[43m,\u001b[49m\n\u001b[0;32m    799\u001b[0m \u001b[43m    \u001b[49m\u001b[43mpreload_content\u001b[49m\u001b[38;5;241;43m=\u001b[39;49m\u001b[43mpreload_content\u001b[49m\u001b[43m,\u001b[49m\n\u001b[0;32m    800\u001b[0m \u001b[43m    \u001b[49m\u001b[43mdecode_content\u001b[49m\u001b[38;5;241;43m=\u001b[39;49m\u001b[43mdecode_content\u001b[49m\u001b[43m,\u001b[49m\n\u001b[0;32m    801\u001b[0m \u001b[43m    \u001b[49m\u001b[38;5;241;43m*\u001b[39;49m\u001b[38;5;241;43m*\u001b[39;49m\u001b[43mresponse_kw\u001b[49m\u001b[43m,\u001b[49m\n\u001b[0;32m    802\u001b[0m \u001b[43m\u001b[49m\u001b[43m)\u001b[49m\n\u001b[0;32m    804\u001b[0m \u001b[38;5;66;03m# Everything went great!\u001b[39;00m\n\u001b[0;32m    805\u001b[0m clean_exit \u001b[38;5;241m=\u001b[39m \u001b[38;5;28;01mTrue\u001b[39;00m\n",
            "File \u001b[1;32md:\\Anaconda\\envs\\gee\\Lib\\site-packages\\urllib3\\connectionpool.py:466\u001b[0m, in \u001b[0;36mHTTPConnectionPool._make_request\u001b[1;34m(self, conn, method, url, body, headers, retries, timeout, chunked, response_conn, preload_content, decode_content, enforce_content_length)\u001b[0m\n\u001b[0;32m    463\u001b[0m \u001b[38;5;28;01mtry\u001b[39;00m:\n\u001b[0;32m    464\u001b[0m     \u001b[38;5;66;03m# Trigger any extra validation we need to do.\u001b[39;00m\n\u001b[0;32m    465\u001b[0m     \u001b[38;5;28;01mtry\u001b[39;00m:\n\u001b[1;32m--> 466\u001b[0m         \u001b[38;5;28;43mself\u001b[39;49m\u001b[38;5;241;43m.\u001b[39;49m\u001b[43m_validate_conn\u001b[49m\u001b[43m(\u001b[49m\u001b[43mconn\u001b[49m\u001b[43m)\u001b[49m\n\u001b[0;32m    467\u001b[0m     \u001b[38;5;28;01mexcept\u001b[39;00m (SocketTimeout, BaseSSLError) \u001b[38;5;28;01mas\u001b[39;00m e:\n\u001b[0;32m    468\u001b[0m         \u001b[38;5;28mself\u001b[39m\u001b[38;5;241m.\u001b[39m_raise_timeout(err\u001b[38;5;241m=\u001b[39me, url\u001b[38;5;241m=\u001b[39murl, timeout_value\u001b[38;5;241m=\u001b[39mconn\u001b[38;5;241m.\u001b[39mtimeout)\n",
            "File \u001b[1;32md:\\Anaconda\\envs\\gee\\Lib\\site-packages\\urllib3\\connectionpool.py:1095\u001b[0m, in \u001b[0;36mHTTPSConnectionPool._validate_conn\u001b[1;34m(self, conn)\u001b[0m\n\u001b[0;32m   1093\u001b[0m \u001b[38;5;66;03m# Force connect early to allow us to validate the connection.\u001b[39;00m\n\u001b[0;32m   1094\u001b[0m \u001b[38;5;28;01mif\u001b[39;00m conn\u001b[38;5;241m.\u001b[39mis_closed:\n\u001b[1;32m-> 1095\u001b[0m     \u001b[43mconn\u001b[49m\u001b[38;5;241;43m.\u001b[39;49m\u001b[43mconnect\u001b[49m\u001b[43m(\u001b[49m\u001b[43m)\u001b[49m\n\u001b[0;32m   1097\u001b[0m \u001b[38;5;66;03m# TODO revise this, see https://github.com/urllib3/urllib3/issues/2791\u001b[39;00m\n\u001b[0;32m   1098\u001b[0m \u001b[38;5;28;01mif\u001b[39;00m \u001b[38;5;129;01mnot\u001b[39;00m conn\u001b[38;5;241m.\u001b[39mis_verified \u001b[38;5;129;01mand\u001b[39;00m \u001b[38;5;129;01mnot\u001b[39;00m conn\u001b[38;5;241m.\u001b[39mproxy_is_verified:\n",
            "File \u001b[1;32md:\\Anaconda\\envs\\gee\\Lib\\site-packages\\urllib3\\connection.py:693\u001b[0m, in \u001b[0;36mHTTPSConnection.connect\u001b[1;34m(self)\u001b[0m\n\u001b[0;32m    691\u001b[0m \u001b[38;5;28;01mtry\u001b[39;00m:\n\u001b[0;32m    692\u001b[0m     sock: socket\u001b[38;5;241m.\u001b[39msocket \u001b[38;5;241m|\u001b[39m ssl\u001b[38;5;241m.\u001b[39mSSLSocket\n\u001b[1;32m--> 693\u001b[0m     \u001b[38;5;28mself\u001b[39m\u001b[38;5;241m.\u001b[39msock \u001b[38;5;241m=\u001b[39m sock \u001b[38;5;241m=\u001b[39m \u001b[38;5;28;43mself\u001b[39;49m\u001b[38;5;241;43m.\u001b[39;49m\u001b[43m_new_conn\u001b[49m\u001b[43m(\u001b[49m\u001b[43m)\u001b[49m\n\u001b[0;32m    694\u001b[0m     server_hostname: \u001b[38;5;28mstr\u001b[39m \u001b[38;5;241m=\u001b[39m \u001b[38;5;28mself\u001b[39m\u001b[38;5;241m.\u001b[39mhost\n\u001b[0;32m    695\u001b[0m     tls_in_tls \u001b[38;5;241m=\u001b[39m \u001b[38;5;28;01mFalse\u001b[39;00m\n",
            "File \u001b[1;32md:\\Anaconda\\envs\\gee\\Lib\\site-packages\\urllib3\\connection.py:199\u001b[0m, in \u001b[0;36mHTTPConnection._new_conn\u001b[1;34m(self)\u001b[0m\n\u001b[0;32m    194\u001b[0m \u001b[38;5;250m\u001b[39m\u001b[38;5;124;03m\"\"\"Establish a socket connection and set nodelay settings on it.\u001b[39;00m\n\u001b[0;32m    195\u001b[0m \n\u001b[0;32m    196\u001b[0m \u001b[38;5;124;03m:return: New socket connection.\u001b[39;00m\n\u001b[0;32m    197\u001b[0m \u001b[38;5;124;03m\"\"\"\u001b[39;00m\n\u001b[0;32m    198\u001b[0m \u001b[38;5;28;01mtry\u001b[39;00m:\n\u001b[1;32m--> 199\u001b[0m     sock \u001b[38;5;241m=\u001b[39m \u001b[43mconnection\u001b[49m\u001b[38;5;241;43m.\u001b[39;49m\u001b[43mcreate_connection\u001b[49m\u001b[43m(\u001b[49m\n\u001b[0;32m    200\u001b[0m \u001b[43m        \u001b[49m\u001b[43m(\u001b[49m\u001b[38;5;28;43mself\u001b[39;49m\u001b[38;5;241;43m.\u001b[39;49m\u001b[43m_dns_host\u001b[49m\u001b[43m,\u001b[49m\u001b[43m \u001b[49m\u001b[38;5;28;43mself\u001b[39;49m\u001b[38;5;241;43m.\u001b[39;49m\u001b[43mport\u001b[49m\u001b[43m)\u001b[49m\u001b[43m,\u001b[49m\n\u001b[0;32m    201\u001b[0m \u001b[43m        \u001b[49m\u001b[38;5;28;43mself\u001b[39;49m\u001b[38;5;241;43m.\u001b[39;49m\u001b[43mtimeout\u001b[49m\u001b[43m,\u001b[49m\n\u001b[0;32m    202\u001b[0m \u001b[43m        \u001b[49m\u001b[43msource_address\u001b[49m\u001b[38;5;241;43m=\u001b[39;49m\u001b[38;5;28;43mself\u001b[39;49m\u001b[38;5;241;43m.\u001b[39;49m\u001b[43msource_address\u001b[49m\u001b[43m,\u001b[49m\n\u001b[0;32m    203\u001b[0m \u001b[43m        \u001b[49m\u001b[43msocket_options\u001b[49m\u001b[38;5;241;43m=\u001b[39;49m\u001b[38;5;28;43mself\u001b[39;49m\u001b[38;5;241;43m.\u001b[39;49m\u001b[43msocket_options\u001b[49m\u001b[43m,\u001b[49m\n\u001b[0;32m    204\u001b[0m \u001b[43m    \u001b[49m\u001b[43m)\u001b[49m\n\u001b[0;32m    205\u001b[0m \u001b[38;5;28;01mexcept\u001b[39;00m socket\u001b[38;5;241m.\u001b[39mgaierror \u001b[38;5;28;01mas\u001b[39;00m e:\n\u001b[0;32m    206\u001b[0m     \u001b[38;5;28;01mraise\u001b[39;00m NameResolutionError(\u001b[38;5;28mself\u001b[39m\u001b[38;5;241m.\u001b[39mhost, \u001b[38;5;28mself\u001b[39m, e) \u001b[38;5;28;01mfrom\u001b[39;00m \u001b[38;5;21;01me\u001b[39;00m\n",
            "File \u001b[1;32md:\\Anaconda\\envs\\gee\\Lib\\site-packages\\urllib3\\util\\connection.py:81\u001b[0m, in \u001b[0;36mcreate_connection\u001b[1;34m(address, timeout, source_address, socket_options)\u001b[0m\n\u001b[0;32m     79\u001b[0m         err \u001b[38;5;241m=\u001b[39m _\n\u001b[0;32m     80\u001b[0m         \u001b[38;5;28;01mif\u001b[39;00m sock \u001b[38;5;129;01mis\u001b[39;00m \u001b[38;5;129;01mnot\u001b[39;00m \u001b[38;5;28;01mNone\u001b[39;00m:\n\u001b[1;32m---> 81\u001b[0m             \u001b[43msock\u001b[49m\u001b[38;5;241;43m.\u001b[39;49m\u001b[43mclose\u001b[49m\u001b[43m(\u001b[49m\u001b[43m)\u001b[49m\n\u001b[0;32m     83\u001b[0m \u001b[38;5;28;01mif\u001b[39;00m err \u001b[38;5;129;01mis\u001b[39;00m \u001b[38;5;129;01mnot\u001b[39;00m \u001b[38;5;28;01mNone\u001b[39;00m:\n\u001b[0;32m     84\u001b[0m     \u001b[38;5;28;01mtry\u001b[39;00m:\n",
            "File \u001b[1;32md:\\Anaconda\\envs\\gee\\Lib\\socket.py:501\u001b[0m, in \u001b[0;36msocket.close\u001b[1;34m(self)\u001b[0m\n\u001b[0;32m    497\u001b[0m \u001b[38;5;28;01mdef\u001b[39;00m \u001b[38;5;21m_real_close\u001b[39m(\u001b[38;5;28mself\u001b[39m, _ss\u001b[38;5;241m=\u001b[39m_socket\u001b[38;5;241m.\u001b[39msocket):\n\u001b[0;32m    498\u001b[0m     \u001b[38;5;66;03m# This function should not reference any globals. See issue #808164.\u001b[39;00m\n\u001b[0;32m    499\u001b[0m     _ss\u001b[38;5;241m.\u001b[39mclose(\u001b[38;5;28mself\u001b[39m)\n\u001b[1;32m--> 501\u001b[0m \u001b[38;5;28;01mdef\u001b[39;00m \u001b[38;5;21mclose\u001b[39m(\u001b[38;5;28mself\u001b[39m):\n\u001b[0;32m    502\u001b[0m     \u001b[38;5;66;03m# This function should not reference any globals. See issue #808164.\u001b[39;00m\n\u001b[0;32m    503\u001b[0m     \u001b[38;5;28mself\u001b[39m\u001b[38;5;241m.\u001b[39m_closed \u001b[38;5;241m=\u001b[39m \u001b[38;5;28;01mTrue\u001b[39;00m\n\u001b[0;32m    504\u001b[0m     \u001b[38;5;28;01mif\u001b[39;00m \u001b[38;5;28mself\u001b[39m\u001b[38;5;241m.\u001b[39m_io_refs \u001b[38;5;241m<\u001b[39m\u001b[38;5;241m=\u001b[39m \u001b[38;5;241m0\u001b[39m:\n",
            "\u001b[1;31mKeyboardInterrupt\u001b[0m: "
          ]
        }
      ],
      "source": [
        "Map = geemap.Map()"
      ]
    },
    {
      "cell_type": "code",
      "execution_count": null,
      "id": "tVSj9nCL0eJD",
      "metadata": {
        "id": "tVSj9nCL0eJD"
      },
      "outputs": [],
      "source": [
        "Map"
      ]
    },
    {
      "cell_type": "code",
      "execution_count": null,
      "id": "alunqPUU0eJD",
      "metadata": {
        "id": "alunqPUU0eJD"
      },
      "outputs": [],
      "source": [
        "Map = geemap.Map(center=[40, -100], zoom=4, height=600)\n",
        "Map"
      ]
    },
    {
      "cell_type": "code",
      "execution_count": null,
      "id": "4GHF1Q2Q0eJD",
      "metadata": {
        "id": "4GHF1Q2Q0eJD"
      },
      "outputs": [],
      "source": [
        "Map = geemap.Map(data_ctrl=False, toolbar_ctrl=False, draw_ctrl=False)\n",
        "Map"
      ]
    },
    {
      "cell_type": "code",
      "execution_count": null,
      "id": "YwB5aqH70eJE",
      "metadata": {
        "id": "YwB5aqH70eJE"
      },
      "outputs": [],
      "source": [
        "Map = geemap.Map(lite_mode=True)\n",
        "Map"
      ]
    },
    {
      "cell_type": "code",
      "execution_count": null,
      "id": "oNuRtXdw0eJE",
      "metadata": {
        "id": "oNuRtXdw0eJE"
      },
      "outputs": [],
      "source": [
        "Map.save('ipyleaflet.html')"
      ]
    },
    {
      "cell_type": "markdown",
      "id": "FxwmEB220eJE",
      "metadata": {
        "id": "FxwmEB220eJE"
      },
      "source": [
        "### Folium"
      ]
    },
    {
      "cell_type": "code",
      "execution_count": null,
      "id": "jbjOLzg60eJE",
      "metadata": {
        "id": "jbjOLzg60eJE"
      },
      "outputs": [],
      "source": [
        "import geemap.foliumap as geemap"
      ]
    },
    {
      "cell_type": "code",
      "execution_count": null,
      "id": "akVTIhXO0eJE",
      "metadata": {
        "id": "akVTIhXO0eJE"
      },
      "outputs": [],
      "source": [
        "Map = geemap.Map(center=[40, -100], zoom=4, height=600)\n",
        "Map"
      ]
    },
    {
      "cell_type": "code",
      "execution_count": null,
      "id": "Q6WqGrZ_0eJE",
      "metadata": {
        "id": "Q6WqGrZ_0eJE"
      },
      "outputs": [],
      "source": [
        "Map.save('folium.html')"
      ]
    },
    {
      "cell_type": "markdown",
      "id": "yVNuxw560eJE",
      "metadata": {
        "id": "yVNuxw560eJE"
      },
      "source": [
        "### Plotly"
      ]
    },
    {
      "cell_type": "code",
      "execution_count": null,
      "id": "jYl_C5Bv0eJE",
      "metadata": {
        "id": "jYl_C5Bv0eJE"
      },
      "outputs": [],
      "source": [
        "import geemap.plotlymap as geemap"
      ]
    },
    {
      "cell_type": "code",
      "execution_count": null,
      "id": "vHQfwLVl0eJE",
      "metadata": {
        "id": "vHQfwLVl0eJE"
      },
      "outputs": [],
      "source": [
        "Map = geemap.Map()\n",
        "Map"
      ]
    },
    {
      "cell_type": "code",
      "execution_count": null,
      "id": "23fdQv6H0eJE",
      "metadata": {
        "id": "23fdQv6H0eJE"
      },
      "outputs": [],
      "source": [
        "# geemap.fix_widget_error()"
      ]
    },
    {
      "cell_type": "markdown",
      "id": "ANoYTJ6X0eJE",
      "metadata": {
        "id": "ANoYTJ6X0eJE"
      },
      "source": [
        "### Pydeck"
      ]
    },
    {
      "cell_type": "code",
      "execution_count": null,
      "id": "F49lXWyU0eJF",
      "metadata": {
        "id": "F49lXWyU0eJF"
      },
      "outputs": [],
      "source": [
        "import geemap.deck as geemap"
      ]
    },
    {
      "cell_type": "code",
      "execution_count": null,
      "id": "kIUMKxlp0eJF",
      "metadata": {
        "id": "kIUMKxlp0eJF"
      },
      "outputs": [],
      "source": [
        "Map = geemap.Map()\n",
        "Map"
      ]
    },
    {
      "cell_type": "markdown",
      "id": "B2xvjwrs0eJF",
      "metadata": {
        "id": "B2xvjwrs0eJF"
      },
      "source": [
        "### KeplerGL"
      ]
    },
    {
      "cell_type": "code",
      "execution_count": null,
      "id": "T6f4eFZf0eJF",
      "metadata": {
        "id": "T6f4eFZf0eJF"
      },
      "outputs": [],
      "source": [
        "import geemap.kepler as geemap"
      ]
    },
    {
      "cell_type": "code",
      "execution_count": null,
      "id": "TZl2Ug8Z0eJF",
      "metadata": {
        "id": "TZl2Ug8Z0eJF"
      },
      "outputs": [],
      "source": [
        "Map = geemap.Map()\n",
        "Map"
      ]
    },
    {
      "cell_type": "markdown",
      "id": "I_hkG6ds0eJF",
      "metadata": {
        "id": "I_hkG6ds0eJF"
      },
      "source": [
        "## Adding basemaps\n",
        "\n",
        "### Built-in basemaps"
      ]
    },
    {
      "cell_type": "code",
      "execution_count": null,
      "id": "PnHVzsqE0eJF",
      "metadata": {
        "id": "PnHVzsqE0eJF"
      },
      "outputs": [],
      "source": [
        "import geemap"
      ]
    },
    {
      "cell_type": "code",
      "execution_count": null,
      "id": "jcNczaLU0eJF",
      "metadata": {
        "id": "jcNczaLU0eJF"
      },
      "outputs": [],
      "source": [
        "Map = geemap.Map(basemap='HYBRID')\n",
        "Map"
      ]
    },
    {
      "cell_type": "code",
      "execution_count": null,
      "id": "HaP8eQun0eJF",
      "metadata": {
        "id": "HaP8eQun0eJF"
      },
      "outputs": [],
      "source": [
        "Map.add_basemap('OpenTopoMap')"
      ]
    },
    {
      "cell_type": "code",
      "execution_count": null,
      "id": "O4G0FnD40eJF",
      "metadata": {
        "id": "O4G0FnD40eJF"
      },
      "outputs": [],
      "source": [
        "for basemap in geemap.basemaps.keys():\n",
        "    print(basemap)"
      ]
    },
    {
      "cell_type": "code",
      "execution_count": null,
      "id": "7qS1xdWs0eJF",
      "metadata": {
        "id": "7qS1xdWs0eJF"
      },
      "outputs": [],
      "source": [
        "len(geemap.basemaps)"
      ]
    },
    {
      "cell_type": "markdown",
      "id": "CdawbwZZ0eJF",
      "metadata": {
        "id": "CdawbwZZ0eJF"
      },
      "source": [
        "### XYZ tiles"
      ]
    },
    {
      "cell_type": "code",
      "execution_count": null,
      "id": "4qv6YGZP0eJF",
      "metadata": {
        "id": "4qv6YGZP0eJF"
      },
      "outputs": [],
      "source": [
        "Map = geemap.Map()\n",
        "Map.add_tile_layer(\n",
        "    url=\"https://mt1.google.com/vt/lyrs=p&x={x}&y={y}&z={z}\",\n",
        "    name=\"Google Terrain\",\n",
        "    attribution=\"Google\",\n",
        ")\n",
        "Map"
      ]
    },
    {
      "cell_type": "markdown",
      "id": "3iJckDWq0eJF",
      "metadata": {
        "id": "3iJckDWq0eJF"
      },
      "source": [
        "### WMS tiles"
      ]
    },
    {
      "cell_type": "code",
      "execution_count": null,
      "id": "jKQRQKlX0eJF",
      "metadata": {
        "id": "jKQRQKlX0eJF"
      },
      "outputs": [],
      "source": [
        "Map = geemap.Map(center=[40, -100], zoom=4)\n",
        "url = 'https://www.mrlc.gov/geoserver/mrlc_display/NLCD_2019_Land_Cover_L48/wms?'\n",
        "Map.add_wms_layer(\n",
        "    url=url,\n",
        "    layers='NLCD_2019_Land_Cover_L48',\n",
        "    name='NLCD 2019',\n",
        "    format='image/png',\n",
        "    attribution='MRLC',\n",
        "    transparent=True,\n",
        ")\n",
        "Map"
      ]
    },
    {
      "cell_type": "markdown",
      "id": "OCSbvM810eJF",
      "metadata": {
        "id": "OCSbvM810eJF"
      },
      "source": [
        "### Planet basemaps"
      ]
    },
    {
      "cell_type": "code",
      "execution_count": null,
      "id": "3UectltE0eJF",
      "metadata": {
        "id": "3UectltE0eJF"
      },
      "outputs": [],
      "source": [
        "import os\n",
        "\n",
        "os.environ[\"PLANET_API_KEY\"] = \"YOUR_API_KEY\""
      ]
    },
    {
      "cell_type": "code",
      "execution_count": null,
      "id": "IdU0aTi_0eJF",
      "metadata": {
        "id": "IdU0aTi_0eJF"
      },
      "outputs": [],
      "source": [
        "quarterly_tiles = geemap.planet_quarterly_tiles()\n",
        "for tile in quarterly_tiles:\n",
        "    print(tile)"
      ]
    },
    {
      "cell_type": "code",
      "execution_count": null,
      "id": "B313bGZE0eJI",
      "metadata": {
        "id": "B313bGZE0eJI"
      },
      "outputs": [],
      "source": [
        "monthly_tiles = geemap.planet_monthly_tiles()\n",
        "for tile in monthly_tiles:\n",
        "    print(tile)"
      ]
    },
    {
      "cell_type": "code",
      "execution_count": null,
      "id": "2im2UG5z0eJI",
      "metadata": {
        "id": "2im2UG5z0eJI"
      },
      "outputs": [],
      "source": [
        "Map = geemap.Map()\n",
        "Map.add_planet_by_month(year=2020, month=8)\n",
        "Map"
      ]
    },
    {
      "cell_type": "code",
      "execution_count": null,
      "id": "4Pq7QMvv0eJI",
      "metadata": {
        "id": "4Pq7QMvv0eJI"
      },
      "outputs": [],
      "source": [
        "Map = geemap.Map()\n",
        "Map.add_planet_by_quarter(year=2019, quarter=2)\n",
        "Map"
      ]
    },
    {
      "cell_type": "markdown",
      "id": "Im8sqgFD0eJJ",
      "metadata": {
        "id": "Im8sqgFD0eJJ"
      },
      "source": [
        "### Basemap GUI"
      ]
    },
    {
      "cell_type": "code",
      "execution_count": null,
      "id": "mLVR9r8V0eJJ",
      "metadata": {
        "id": "mLVR9r8V0eJJ"
      },
      "outputs": [],
      "source": [
        "import os\n",
        "\n",
        "os.environ[\"PLANET_API_KEY\"] = \"YOUR_API_KEY\""
      ]
    },
    {
      "cell_type": "code",
      "execution_count": null,
      "id": "Tcgb6SYj0eJJ",
      "metadata": {
        "id": "Tcgb6SYj0eJJ"
      },
      "outputs": [],
      "source": [
        "Map = geemap.Map()\n",
        "Map"
      ]
    },
    {
      "cell_type": "markdown",
      "id": "i_ZC85OB0eJJ",
      "metadata": {
        "id": "i_ZC85OB0eJJ"
      },
      "source": [
        "## Summary"
      ]
    }
  ],
  "metadata": {
    "colab": {
      "provenance": []
    },
    "kernelspec": {
      "display_name": "gee",
      "language": "python",
      "name": "python3"
    },
    "language_info": {
      "codemirror_mode": {
        "name": "ipython",
        "version": 3
      },
      "file_extension": ".py",
      "mimetype": "text/x-python",
      "name": "python",
      "nbconvert_exporter": "python",
      "pygments_lexer": "ipython3",
      "version": "3.12.7"
    }
  },
  "nbformat": 4,
  "nbformat_minor": 5
}
