{
 "cells": [
  {
   "cell_type": "markdown",
   "id": "c01b02ce",
   "metadata": {},
   "source": [
    "# Using Local Geospatial Data\n",
    "\n",
    "```{contents}\n",
    ":local:\n",
    ":depth: 2\n",
    "```\n",
    "\n",
    "## Introduction\n",
    "\n",
    "## Technical requirements\n",
    "\n",
    "```bash\n",
    "conda create -n gee python\n",
    "conda activate gee\n",
    "conda install -c conda-forge mamba\n",
    "mamba install -c conda-forge pygis\n",
    "```\n",
    "\n",
    "```bash\n",
    "jupyter lab\n",
    "```"
   ]
  },
  {
   "cell_type": "code",
   "execution_count": null,
   "id": "294e41da",
   "metadata": {},
   "outputs": [],
   "source": [
    "# %pip install pygis"
   ]
  },
  {
   "cell_type": "code",
   "execution_count": 1,
   "id": "3b7b0694",
   "metadata": {},
   "outputs": [],
   "source": [
    "import ee\n",
    "import geemap"
   ]
  },
  {
   "cell_type": "code",
   "execution_count": null,
   "id": "feec9212",
   "metadata": {},
   "outputs": [],
   "source": [
    "geemap.ee_initialize()"
   ]
  },
  {
   "cell_type": "code",
   "execution_count": null,
   "id": "4395d655-a9d8-4f4d-87ad-fa6079725ea8",
   "metadata": {},
   "outputs": [],
   "source": [
    "import ee\n",
    "import geemap\n",
    "geemap.set_proxy(33210)\n",
    "geemap.ee_initialize()"
   ]
  },
  {
   "cell_type": "markdown",
   "id": "86c96c3d",
   "metadata": {},
   "source": [
    "## Local raster datasets\n",
    "\n",
    "### Single-band imagery"
   ]
  },
  {
   "cell_type": "code",
   "execution_count": null,
   "id": "40021aad",
   "metadata": {},
   "outputs": [],
   "source": [
    "url = 'https://github.com/giswqs/data/raw/main/raster/srtm90.tif'\n",
    "filename = 'dem.tif'\n",
    "geemap.download_file(url, filename)"
   ]
  },
  {
   "cell_type": "code",
   "execution_count": null,
   "id": "7b2d25f9",
   "metadata": {},
   "outputs": [],
   "source": [
    "Map = geemap.Map()\n",
    "Map.add_raster(filename, colormap='terrain', layer_name=\"DEM\")\n",
    "vis_params = {'min': 0, 'max': 4000, 'palette': 'terrain'}\n",
    "Map.add_colorbar(vis_params, label='Elevation (m)')\n",
    "Map"
   ]
  },
  {
   "cell_type": "code",
   "execution_count": null,
   "id": "6382033f",
   "metadata": {},
   "outputs": [],
   "source": [
    "import geemap.colormaps as cm\n",
    "cm.list_colormaps()"
   ]
  },
  {
   "cell_type": "code",
   "execution_count": null,
   "id": "9fcfe605",
   "metadata": {},
   "outputs": [],
   "source": [
    "cm.plot_colormaps(width=12, height=0.4)"
   ]
  },
  {
   "cell_type": "markdown",
   "id": "a6d3ab8a",
   "metadata": {},
   "source": [
    "### Multi-band imagery"
   ]
  },
  {
   "cell_type": "code",
   "execution_count": null,
   "id": "03920643",
   "metadata": {},
   "outputs": [],
   "source": [
    "url = 'https://github.com/giswqs/leafmap/raw/master/examples/data/cog.tif'\n",
    "filename = 'cog.tif'\n",
    "geemap.download_file(url, filename)"
   ]
  },
  {
   "cell_type": "code",
   "execution_count": null,
   "id": "d812bba9",
   "metadata": {},
   "outputs": [],
   "source": [
    "Map = geemap.Map()\n",
    "Map.add_raster(filename, band=[4, 1, 2], layer_name=\"Color infrared\")\n",
    "Map"
   ]
  },
  {
   "cell_type": "markdown",
   "id": "a6562810",
   "metadata": {},
   "source": [
    "### Interactive raster GUI\n",
    "\n",
    "## Cloud Optimized GeoTIFF (COG)\n",
    "\n",
    "### Visualizing COG"
   ]
  },
  {
   "cell_type": "code",
   "execution_count": null,
   "id": "5ebc9263",
   "metadata": {},
   "outputs": [],
   "source": [
    "url = 'https://tinyurl.com/24bo8umr'"
   ]
  },
  {
   "cell_type": "code",
   "execution_count": null,
   "id": "670b7fd0",
   "metadata": {},
   "outputs": [],
   "source": [
    "geemap.cog_bounds(url)"
   ]
  },
  {
   "cell_type": "code",
   "execution_count": null,
   "id": "3a5cffe7",
   "metadata": {},
   "outputs": [],
   "source": [
    "geemap.cog_center(url)"
   ]
  },
  {
   "cell_type": "code",
   "execution_count": null,
   "id": "c2564de7",
   "metadata": {},
   "outputs": [],
   "source": [
    "geemap.cog_bands(url)"
   ]
  },
  {
   "cell_type": "code",
   "execution_count": null,
   "id": "4f95b72e",
   "metadata": {},
   "outputs": [],
   "source": [
    "geemap.cog_tile(url)\n"
   ]
  },
  {
   "cell_type": "code",
   "execution_count": null,
   "id": "7791945d",
   "metadata": {},
   "outputs": [],
   "source": [
    "Map = geemap.Map()\n",
    "Map.add_cog_layer(url, name=\"Fire (pre-event)\")\n",
    "Map"
   ]
  },
  {
   "cell_type": "code",
   "execution_count": null,
   "id": "b335374f",
   "metadata": {},
   "outputs": [],
   "source": [
    "url2 = 'https://tinyurl.com/2awjl66w'\n",
    "Map.add_cog_layer(url2, name=\"Fire (post-event)\")\n",
    "Map"
   ]
  },
  {
   "cell_type": "markdown",
   "id": "13cd9c81",
   "metadata": {},
   "source": [
    "### Creating COG"
   ]
  },
  {
   "cell_type": "code",
   "execution_count": null,
   "id": "ab9ba5e6",
   "metadata": {},
   "outputs": [],
   "source": [
    "# 查看是否为cog文件\n",
    "url = \"https://github.com/giswqs/data/raw/main/raster/srtm90.tif\"\n",
    "geemap.cog_validate(url)"
   ]
  },
  {
   "cell_type": "code",
   "execution_count": null,
   "id": "eb124bf3",
   "metadata": {},
   "outputs": [],
   "source": [
    "geemap.cog_validate(url, verbose=True)"
   ]
  },
  {
   "cell_type": "code",
   "execution_count": null,
   "id": "0d2008e5",
   "metadata": {},
   "outputs": [],
   "source": [
    "out_cog = \"cog.tif\"\n",
    "geemap.image_to_cog(url, out_cog)"
   ]
  },
  {
   "cell_type": "code",
   "execution_count": null,
   "id": "f4d8cc93",
   "metadata": {},
   "outputs": [],
   "source": [
    "geemap.cog_validate(out_cog)"
   ]
  },
  {
   "cell_type": "code",
   "execution_count": null,
   "id": "1e00e1bd",
   "metadata": {},
   "outputs": [],
   "source": [
    "Map = geemap.Map()\n",
    "Map.add_raster(out_cog, cmap=\"terrain\", layer_name=\"Local COG\")\n",
    "Map.add_cog_layer(url, cmap=\"gist_earth\", name=\"Remote COG\")\n",
    "vis_params = {'min': 0, 'max': 4000, 'palette': 'gist_earth'}\n",
    "Map.add_colorbar(vis_params, label='Elevation (m)')\n",
    "Map"
   ]
  },
  {
   "cell_type": "markdown",
   "id": "4de8e69e",
   "metadata": {},
   "source": [
    "### Converting NumPy arrays to COG"
   ]
  },
  {
   "cell_type": "code",
   "execution_count": null,
   "id": "b2d0c3b4",
   "metadata": {},
   "outputs": [],
   "source": [
    "# url = 'https://github.com/giswqs/leafmap/raw/master/examples/data/cog.tif'\n",
    "in_cog = 'cog.tif'\n",
    "out_cog = \"ndvi.tif\"\n",
    "# geemap.download_file(url, in_cog, overwrite=True)"
   ]
  },
  {
   "cell_type": "code",
   "execution_count": null,
   "id": "19a35d85",
   "metadata": {},
   "outputs": [],
   "source": [
    "arr = geemap.image_to_numpy(in_cog)"
   ]
  },
  {
   "cell_type": "code",
   "execution_count": null,
   "id": "65ab6325",
   "metadata": {},
   "outputs": [],
   "source": [
    "arr.shape"
   ]
  },
  {
   "cell_type": "code",
   "execution_count": null,
   "id": "5e6472fa",
   "metadata": {},
   "outputs": [],
   "source": [
    "ndvi = (arr[3] - arr[0]) / (arr[3] + arr[0])"
   ]
  },
  {
   "cell_type": "code",
   "execution_count": null,
   "id": "9a5cc04f",
   "metadata": {},
   "outputs": [],
   "source": [
    "ndvi.shape"
   ]
  },
  {
   "cell_type": "code",
   "execution_count": null,
   "id": "5207f2da",
   "metadata": {},
   "outputs": [],
   "source": [
    "geemap.numpy_to_cog(ndvi, out_cog, profile=in_cog)"
   ]
  },
  {
   "cell_type": "code",
   "execution_count": null,
   "id": "8545846f",
   "metadata": {},
   "outputs": [],
   "source": [
    "Map = geemap.Map()\n",
    "Map.add_raster(in_cog, band=[4, 1, 2], layer_name=\"Color infrared\")\n",
    "Map.add_raster(out_cog, cmap=\"Greens\", layer_name=\"NDVI\")\n",
    "Map"
   ]
  },
  {
   "cell_type": "markdown",
   "id": "c0aa6d5c",
   "metadata": {},
   "source": [
    "### Clipping image by mask"
   ]
  },
  {
   "cell_type": "code",
   "execution_count": null,
   "id": "72f2f904",
   "metadata": {},
   "outputs": [],
   "source": [
    "url = 'https://github.com/giswqs/data/raw/main/raster/srtm90.tif'\n",
    "dem = 'dem.tif'\n",
    "geemap.download_file(url, dem)"
   ]
  },
  {
   "cell_type": "code",
   "execution_count": null,
   "id": "4cbe466a",
   "metadata": {},
   "outputs": [],
   "source": [
    "Map = geemap.Map()\n",
    "Map.add_raster(dem, cmap='terrain', layer_name=\"DEM\")\n",
    "Map"
   ]
  },
  {
   "cell_type": "code",
   "execution_count": null,
   "id": "d24619ab",
   "metadata": {},
   "outputs": [],
   "source": [
    "mask = (\n",
    "    'https://raw.githubusercontent.com/giswqs/leafmap/master/examples/data/mask.geojson'\n",
    ")"
   ]
  },
  {
   "cell_type": "code",
   "execution_count": null,
   "id": "b1768e3f",
   "metadata": {},
   "outputs": [],
   "source": [
    "mask = Map.user_roi"
   ]
  },
  {
   "cell_type": "code",
   "execution_count": null,
   "id": "abbdf4d9",
   "metadata": {},
   "outputs": [],
   "source": [
    "mask = [\n",
    "    [-119.679565, 37.256566],\n",
    "    [-119.679565, 38.061067],\n",
    "    [-118.24585, 38.061067],\n",
    "    [-118.24585, 37.256566],\n",
    "    [-119.679565, 37.256566],\n",
    "]"
   ]
  },
  {
   "cell_type": "code",
   "execution_count": null,
   "id": "d1c9d1d5",
   "metadata": {},
   "outputs": [],
   "source": [
    "output = 'clip.tif'\n",
    "geemap.clip_image(dem, mask, output)\n",
    "Map.add_raster(output, cmap='coolwarm', layer_name=\"Clip Image\")\n",
    "Map"
   ]
  },
  {
   "cell_type": "markdown",
   "id": "63f7e05c",
   "metadata": {},
   "source": [
    "## SpatioTemporal Asset Catalog (STAC)"
   ]
  },
  {
   "cell_type": "code",
   "execution_count": 2,
   "id": "42737d20",
   "metadata": {},
   "outputs": [
    {
     "data": {
      "text/html": [
       "\n",
       "            <style>\n",
       "                .geemap-dark {\n",
       "                    --jp-widgets-color: white;\n",
       "                    --jp-widgets-label-color: white;\n",
       "                    --jp-ui-font-color1: white;\n",
       "                    --jp-layout-color2: #454545;\n",
       "                    background-color: #383838;\n",
       "                }\n",
       "\n",
       "                .geemap-dark .jupyter-button {\n",
       "                    --jp-layout-color3: #383838;\n",
       "                }\n",
       "\n",
       "                .geemap-colab {\n",
       "                    background-color: var(--colab-primary-surface-color, white);\n",
       "                }\n",
       "\n",
       "                .geemap-colab .jupyter-button {\n",
       "                    --jp-layout-color3: var(--colab-primary-surface-color, white);\n",
       "                }\n",
       "            </style>\n",
       "            "
      ],
      "text/plain": [
       "<IPython.core.display.HTML object>"
      ]
     },
     "metadata": {},
     "output_type": "display_data"
    }
   ],
   "source": [
    "url = 'https://tinyurl.com/22vptbws'"
   ]
  },
  {
   "cell_type": "code",
   "execution_count": null,
   "id": "45147bc2",
   "metadata": {},
   "outputs": [
    {
     "data": {
      "text/html": [
       "\n",
       "            <style>\n",
       "                .geemap-dark {\n",
       "                    --jp-widgets-color: white;\n",
       "                    --jp-widgets-label-color: white;\n",
       "                    --jp-ui-font-color1: white;\n",
       "                    --jp-layout-color2: #454545;\n",
       "                    background-color: #383838;\n",
       "                }\n",
       "\n",
       "                .geemap-dark .jupyter-button {\n",
       "                    --jp-layout-color3: #383838;\n",
       "                }\n",
       "\n",
       "                .geemap-colab {\n",
       "                    background-color: var(--colab-primary-surface-color, white);\n",
       "                }\n",
       "\n",
       "                .geemap-colab .jupyter-button {\n",
       "                    --jp-layout-color3: var(--colab-primary-surface-color, white);\n",
       "                }\n",
       "            </style>\n",
       "            "
      ],
      "text/plain": [
       "<IPython.core.display.HTML object>"
      ]
     },
     "metadata": {},
     "output_type": "display_data"
    },
    {
     "data": {
      "text/plain": [
       "[-111.6453245, 60.59892389999882, -110.1583693, 61.30928879999903]"
      ]
     },
     "execution_count": 3,
     "metadata": {},
     "output_type": "execute_result"
    }
   ],
   "source": [
    "geemap.stac_bounds(url)"
   ]
  },
  {
   "cell_type": "code",
   "execution_count": 4,
   "id": "fa75ab35",
   "metadata": {},
   "outputs": [
    {
     "data": {
      "text/html": [
       "\n",
       "            <style>\n",
       "                .geemap-dark {\n",
       "                    --jp-widgets-color: white;\n",
       "                    --jp-widgets-label-color: white;\n",
       "                    --jp-ui-font-color1: white;\n",
       "                    --jp-layout-color2: #454545;\n",
       "                    background-color: #383838;\n",
       "                }\n",
       "\n",
       "                .geemap-dark .jupyter-button {\n",
       "                    --jp-layout-color3: #383838;\n",
       "                }\n",
       "\n",
       "                .geemap-colab {\n",
       "                    background-color: var(--colab-primary-surface-color, white);\n",
       "                }\n",
       "\n",
       "                .geemap-colab .jupyter-button {\n",
       "                    --jp-layout-color3: var(--colab-primary-surface-color, white);\n",
       "                }\n",
       "            </style>\n",
       "            "
      ],
      "text/plain": [
       "<IPython.core.display.HTML object>"
      ]
     },
     "metadata": {},
     "output_type": "display_data"
    },
    {
     "data": {
      "text/plain": [
       "(-110.90184690000001, 60.95410634999892)"
      ]
     },
     "execution_count": 4,
     "metadata": {},
     "output_type": "execute_result"
    }
   ],
   "source": [
    "geemap.stac_center(url)"
   ]
  },
  {
   "cell_type": "code",
   "execution_count": 5,
   "id": "b3d56493",
   "metadata": {},
   "outputs": [
    {
     "data": {
      "text/html": [
       "\n",
       "            <style>\n",
       "                .geemap-dark {\n",
       "                    --jp-widgets-color: white;\n",
       "                    --jp-widgets-label-color: white;\n",
       "                    --jp-ui-font-color1: white;\n",
       "                    --jp-layout-color2: #454545;\n",
       "                    background-color: #383838;\n",
       "                }\n",
       "\n",
       "                .geemap-dark .jupyter-button {\n",
       "                    --jp-layout-color3: #383838;\n",
       "                }\n",
       "\n",
       "                .geemap-colab {\n",
       "                    background-color: var(--colab-primary-surface-color, white);\n",
       "                }\n",
       "\n",
       "                .geemap-colab .jupyter-button {\n",
       "                    --jp-layout-color3: var(--colab-primary-surface-color, white);\n",
       "                }\n",
       "            </style>\n",
       "            "
      ],
      "text/plain": [
       "<IPython.core.display.HTML object>"
      ]
     },
     "metadata": {},
     "output_type": "display_data"
    },
    {
     "data": {
      "text/plain": [
       "['pan', 'B1', 'B2', 'B3', 'B4']"
      ]
     },
     "execution_count": 5,
     "metadata": {},
     "output_type": "execute_result"
    }
   ],
   "source": [
    "geemap.stac_bands(url)"
   ]
  },
  {
   "cell_type": "code",
   "execution_count": 7,
   "id": "bf6817cf",
   "metadata": {},
   "outputs": [
    {
     "data": {
      "text/html": [
       "\n",
       "            <style>\n",
       "                .geemap-dark {\n",
       "                    --jp-widgets-color: white;\n",
       "                    --jp-widgets-label-color: white;\n",
       "                    --jp-ui-font-color1: white;\n",
       "                    --jp-layout-color2: #454545;\n",
       "                    background-color: #383838;\n",
       "                }\n",
       "\n",
       "                .geemap-dark .jupyter-button {\n",
       "                    --jp-layout-color3: #383838;\n",
       "                }\n",
       "\n",
       "                .geemap-colab {\n",
       "                    background-color: var(--colab-primary-surface-color, white);\n",
       "                }\n",
       "\n",
       "                .geemap-colab .jupyter-button {\n",
       "                    --jp-layout-color3: var(--colab-primary-surface-color, white);\n",
       "                }\n",
       "            </style>\n",
       "            "
      ],
      "text/plain": [
       "<IPython.core.display.HTML object>"
      ]
     },
     "metadata": {},
     "output_type": "display_data"
    },
    {
     "data": {
      "text/plain": [
       "'https://titiler.xyz/stac/tiles/WebMercatorQuad/{z}/{x}/{y}@1x?url=https%3A%2F%2Fcanada-spot-ortho.s3.amazonaws.com%2Fcanada_spot_orthoimages%2Fcanada_spot5_orthoimages%2FS5_2007%2FS5_11055_6057_20070622%2FS5_11055_6057_20070622.json&assets=B3&assets=B2&assets=B1'"
      ]
     },
     "execution_count": 7,
     "metadata": {},
     "output_type": "execute_result"
    }
   ],
   "source": [
    "geemap.stac_tile(url, bands=['B3', 'B2', 'B1'])"
   ]
  },
  {
   "cell_type": "code",
   "execution_count": 6,
   "id": "2ff46d4d",
   "metadata": {},
   "outputs": [
    {
     "data": {
      "text/html": [
       "\n",
       "            <style>\n",
       "                .geemap-dark {\n",
       "                    --jp-widgets-color: white;\n",
       "                    --jp-widgets-label-color: white;\n",
       "                    --jp-ui-font-color1: white;\n",
       "                    --jp-layout-color2: #454545;\n",
       "                    background-color: #383838;\n",
       "                }\n",
       "\n",
       "                .geemap-dark .jupyter-button {\n",
       "                    --jp-layout-color3: #383838;\n",
       "                }\n",
       "\n",
       "                .geemap-colab {\n",
       "                    background-color: var(--colab-primary-surface-color, white);\n",
       "                }\n",
       "\n",
       "                .geemap-colab .jupyter-button {\n",
       "                    --jp-layout-color3: var(--colab-primary-surface-color, white);\n",
       "                }\n",
       "            </style>\n",
       "            "
      ],
      "text/plain": [
       "<IPython.core.display.HTML object>"
      ]
     },
     "metadata": {},
     "output_type": "display_data"
    },
    {
     "data": {
      "application/vnd.jupyter.widget-view+json": {
       "model_id": "c2b4562aa2914a63935bfb5cce3af36f",
       "version_major": 2,
       "version_minor": 0
      },
      "text/plain": [
       "Map(center=[0, 0], controls=(WidgetControl(options=['position', 'transparent_bg'], widget=SearchDataGUI(childr…"
      ]
     },
     "execution_count": 6,
     "metadata": {},
     "output_type": "execute_result"
    }
   ],
   "source": [
    "Map = geemap.Map()\n",
    "Map.add_stac_layer(url, bands=['pan'], name='Panchromatic')\n",
    "Map.add_stac_layer(url, bands=['B3', 'B2', 'B1'], name='False color')\n",
    "Map"
   ]
  },
  {
   "cell_type": "markdown",
   "id": "d3a47790",
   "metadata": {},
   "source": [
    "## Vector datasets\n",
    "\n",
    "### GeoJSON"
   ]
  },
  {
   "cell_type": "code",
   "execution_count": 8,
   "id": "713250b3",
   "metadata": {},
   "outputs": [
    {
     "data": {
      "text/html": [
       "\n",
       "            <style>\n",
       "                .geemap-dark {\n",
       "                    --jp-widgets-color: white;\n",
       "                    --jp-widgets-label-color: white;\n",
       "                    --jp-ui-font-color1: white;\n",
       "                    --jp-layout-color2: #454545;\n",
       "                    background-color: #383838;\n",
       "                }\n",
       "\n",
       "                .geemap-dark .jupyter-button {\n",
       "                    --jp-layout-color3: #383838;\n",
       "                }\n",
       "\n",
       "                .geemap-colab {\n",
       "                    background-color: var(--colab-primary-surface-color, white);\n",
       "                }\n",
       "\n",
       "                .geemap-colab .jupyter-button {\n",
       "                    --jp-layout-color3: var(--colab-primary-surface-color, white);\n",
       "                }\n",
       "            </style>\n",
       "            "
      ],
      "text/plain": [
       "<IPython.core.display.HTML object>"
      ]
     },
     "metadata": {},
     "output_type": "display_data"
    },
    {
     "data": {
      "application/vnd.jupyter.widget-view+json": {
       "model_id": "a40748008bf740a5a559ba3fa8e86a2c",
       "version_major": 2,
       "version_minor": 0
      },
      "text/plain": [
       "Map(center=[0, 0], controls=(WidgetControl(options=['position', 'transparent_bg'], widget=SearchDataGUI(childr…"
      ]
     },
     "execution_count": 8,
     "metadata": {},
     "output_type": "execute_result"
    }
   ],
   "source": [
    "in_geojson = (\n",
    "    'https://github.com/gee-community/geemap/blob/master/examples/data/cable_geo.geojson'\n",
    ")\n",
    "Map = geemap.Map()\n",
    "Map.add_geojson(in_geojson, layer_name=\"Cable lines\", info_mode=\"on_hover\")\n",
    "Map"
   ]
  },
  {
   "cell_type": "code",
   "execution_count": null,
   "id": "ab15319f",
   "metadata": {},
   "outputs": [
    {
     "data": {
      "text/html": [
       "\n",
       "            <style>\n",
       "                .geemap-dark {\n",
       "                    --jp-widgets-color: white;\n",
       "                    --jp-widgets-label-color: white;\n",
       "                    --jp-ui-font-color1: white;\n",
       "                    --jp-layout-color2: #454545;\n",
       "                    background-color: #383838;\n",
       "                }\n",
       "\n",
       "                .geemap-dark .jupyter-button {\n",
       "                    --jp-layout-color3: #383838;\n",
       "                }\n",
       "\n",
       "                .geemap-colab {\n",
       "                    background-color: var(--colab-primary-surface-color, white);\n",
       "                }\n",
       "\n",
       "                .geemap-colab .jupyter-button {\n",
       "                    --jp-layout-color3: var(--colab-primary-surface-color, white);\n",
       "                }\n",
       "            </style>\n",
       "            "
      ],
      "text/plain": [
       "<IPython.core.display.HTML object>"
      ]
     },
     "metadata": {},
     "output_type": "display_data"
    },
    {
     "data": {
      "application/vnd.jupyter.widget-view+json": {
       "model_id": "4214ff95b2a045b9a368aac6fbb38c4e",
       "version_major": 2,
       "version_minor": 0
      },
      "text/plain": [
       "Map(center=[0, 0], controls=(WidgetControl(options=['position', 'transparent_bg'], widget=SearchDataGUI(childr…"
      ]
     },
     "execution_count": 9,
     "metadata": {},
     "output_type": "execute_result"
    }
   ],
   "source": [
    "Map = geemap.Map()\n",
    "Map.add_basemap(\"CartoDB.DarkMatter\")\n",
    "callback = lambda feat: {\"color\": \"#\" + feat[\"properties\"][\"color\"], \"weight\": 2}# 定义callback函数，返回每个faeture的颜色\n",
    "Map.add_geojson(in_geojson, layer_name=\"Cable lines\", style_callback=callback)\n",
    "Map"
   ]
  },
  {
   "cell_type": "code",
   "execution_count": 10,
   "id": "d5c10e83",
   "metadata": {},
   "outputs": [
    {
     "data": {
      "text/html": [
       "\n",
       "            <style>\n",
       "                .geemap-dark {\n",
       "                    --jp-widgets-color: white;\n",
       "                    --jp-widgets-label-color: white;\n",
       "                    --jp-ui-font-color1: white;\n",
       "                    --jp-layout-color2: #454545;\n",
       "                    background-color: #383838;\n",
       "                }\n",
       "\n",
       "                .geemap-dark .jupyter-button {\n",
       "                    --jp-layout-color3: #383838;\n",
       "                }\n",
       "\n",
       "                .geemap-colab {\n",
       "                    background-color: var(--colab-primary-surface-color, white);\n",
       "                }\n",
       "\n",
       "                .geemap-colab .jupyter-button {\n",
       "                    --jp-layout-color3: var(--colab-primary-surface-color, white);\n",
       "                }\n",
       "            </style>\n",
       "            "
      ],
      "text/plain": [
       "<IPython.core.display.HTML object>"
      ]
     },
     "metadata": {},
     "output_type": "display_data"
    },
    {
     "data": {
      "application/vnd.jupyter.widget-view+json": {
       "model_id": "6cbf5088028a4f1fbb397a8fe5603d74",
       "version_major": 2,
       "version_minor": 0
      },
      "text/plain": [
       "Map(center=[0, 0], controls=(WidgetControl(options=['position', 'transparent_bg'], widget=SearchDataGUI(childr…"
      ]
     },
     "execution_count": 10,
     "metadata": {},
     "output_type": "execute_result"
    }
   ],
   "source": [
    "url = \"https://github.com/gee-community/geemap/blob/master/examples/data/countries.geojson\"\n",
    "Map = geemap.Map()\n",
    "Map.add_geojson(\n",
    "    url, layer_name=\"Countries\", fill_colors=['red', 'yellow', 'green', 'orange']\n",
    ")\n",
    "Map"
   ]
  },
  {
   "cell_type": "code",
   "execution_count": 12,
   "id": "ce907c9b",
   "metadata": {},
   "outputs": [
    {
     "data": {
      "text/html": [
       "\n",
       "            <style>\n",
       "                .geemap-dark {\n",
       "                    --jp-widgets-color: white;\n",
       "                    --jp-widgets-label-color: white;\n",
       "                    --jp-ui-font-color1: white;\n",
       "                    --jp-layout-color2: #454545;\n",
       "                    background-color: #383838;\n",
       "                }\n",
       "\n",
       "                .geemap-dark .jupyter-button {\n",
       "                    --jp-layout-color3: #383838;\n",
       "                }\n",
       "\n",
       "                .geemap-colab {\n",
       "                    background-color: var(--colab-primary-surface-color, white);\n",
       "                }\n",
       "\n",
       "                .geemap-colab .jupyter-button {\n",
       "                    --jp-layout-color3: var(--colab-primary-surface-color, white);\n",
       "                }\n",
       "            </style>\n",
       "            "
      ],
      "text/plain": [
       "<IPython.core.display.HTML object>"
      ]
     },
     "metadata": {},
     "output_type": "display_data"
    },
    {
     "data": {
      "application/vnd.jupyter.widget-view+json": {
       "model_id": "9811e275404f434b8e3cc0909d4d3d2c",
       "version_major": 2,
       "version_minor": 0
      },
      "text/plain": [
       "Map(center=[0, 0], controls=(WidgetControl(options=['position', 'transparent_bg'], widget=SearchDataGUI(childr…"
      ]
     },
     "execution_count": 12,
     "metadata": {},
     "output_type": "execute_result"
    }
   ],
   "source": [
    "import random\n",
    "\n",
    "Map = geemap.Map()\n",
    "\n",
    "def random_color(feature):\n",
    "    return {\n",
    "        'color': 'black',\n",
    "        'weight': 3,\n",
    "        'fillColor': random.choice(['red', 'yellow', 'green', 'orange']),\n",
    "    }\n",
    "\n",
    "Map.add_geojson(url, layer_name=\"Countries\", style_callback=random_color)\n",
    "Map"
   ]
  },
  {
   "cell_type": "code",
   "execution_count": 13,
   "id": "b374c8e2",
   "metadata": {},
   "outputs": [
    {
     "data": {
      "text/html": [
       "\n",
       "            <style>\n",
       "                .geemap-dark {\n",
       "                    --jp-widgets-color: white;\n",
       "                    --jp-widgets-label-color: white;\n",
       "                    --jp-ui-font-color1: white;\n",
       "                    --jp-layout-color2: #454545;\n",
       "                    background-color: #383838;\n",
       "                }\n",
       "\n",
       "                .geemap-dark .jupyter-button {\n",
       "                    --jp-layout-color3: #383838;\n",
       "                }\n",
       "\n",
       "                .geemap-colab {\n",
       "                    background-color: var(--colab-primary-surface-color, white);\n",
       "                }\n",
       "\n",
       "                .geemap-colab .jupyter-button {\n",
       "                    --jp-layout-color3: var(--colab-primary-surface-color, white);\n",
       "                }\n",
       "            </style>\n",
       "            "
      ],
      "text/plain": [
       "<IPython.core.display.HTML object>"
      ]
     },
     "metadata": {},
     "output_type": "display_data"
    },
    {
     "data": {
      "application/vnd.jupyter.widget-view+json": {
       "model_id": "812e28448a944429888971d327ebe169",
       "version_major": 2,
       "version_minor": 0
      },
      "text/plain": [
       "Map(center=[0, 0], controls=(WidgetControl(options=['position', 'transparent_bg'], widget=SearchDataGUI(childr…"
      ]
     },
     "execution_count": 13,
     "metadata": {},
     "output_type": "execute_result"
    }
   ],
   "source": [
    "Map = geemap.Map()\n",
    "\n",
    "style = {\n",
    "    \"stroke\": True,\n",
    "    \"color\": \"#0000ff\",\n",
    "    \"weight\": 2,\n",
    "    \"opacity\": 1,\n",
    "    \"fill\": True,\n",
    "    \"fillColor\": \"#0000ff\",\n",
    "    \"fillOpacity\": 0.1,\n",
    "}\n",
    "\n",
    "hover_style = {\"fillOpacity\": 0.7}\n",
    "\n",
    "Map.add_geojson(url, layer_name=\"Countries\", style=style, hover_style=hover_style)\n",
    "Map"
   ]
  },
  {
   "cell_type": "markdown",
   "id": "f5f776ae",
   "metadata": {},
   "source": [
    "### Shapefile"
   ]
  },
  {
   "cell_type": "code",
   "execution_count": 14,
   "id": "30db9f1d",
   "metadata": {},
   "outputs": [
    {
     "data": {
      "text/html": [
       "\n",
       "            <style>\n",
       "                .geemap-dark {\n",
       "                    --jp-widgets-color: white;\n",
       "                    --jp-widgets-label-color: white;\n",
       "                    --jp-ui-font-color1: white;\n",
       "                    --jp-layout-color2: #454545;\n",
       "                    background-color: #383838;\n",
       "                }\n",
       "\n",
       "                .geemap-dark .jupyter-button {\n",
       "                    --jp-layout-color3: #383838;\n",
       "                }\n",
       "\n",
       "                .geemap-colab {\n",
       "                    background-color: var(--colab-primary-surface-color, white);\n",
       "                }\n",
       "\n",
       "                .geemap-colab .jupyter-button {\n",
       "                    --jp-layout-color3: var(--colab-primary-surface-color, white);\n",
       "                }\n",
       "            </style>\n",
       "            "
      ],
      "text/plain": [
       "<IPython.core.display.HTML object>"
      ]
     },
     "metadata": {},
     "output_type": "display_data"
    },
    {
     "name": "stderr",
     "output_type": "stream",
     "text": [
      "Downloading...\n",
      "From: https://raw.githubusercontent.com/gee-community/geemap/master/examples/data/countries.zip\n",
      "To: d:\\Python代码\\Python\\gee\\countries.zip\n",
      "100%|██████████| 132k/132k [00:00<00:00, 364kB/s]"
     ]
    },
    {
     "name": "stdout",
     "output_type": "stream",
     "text": [
      "Extracting files...\n"
     ]
    },
    {
     "name": "stderr",
     "output_type": "stream",
     "text": [
      "\n"
     ]
    },
    {
     "data": {
      "text/plain": [
       "'d:\\\\Python代码\\\\Python\\\\gee\\\\countries.zip'"
      ]
     },
     "execution_count": 14,
     "metadata": {},
     "output_type": "execute_result"
    }
   ],
   "source": [
    "url = \"https://github.com/gee-community/geemap/blob/master/examples/data/countries.zip\"\n",
    "geemap.download_file(url)"
   ]
  },
  {
   "cell_type": "code",
   "execution_count": 15,
   "id": "9d3d1a07",
   "metadata": {},
   "outputs": [
    {
     "data": {
      "text/html": [
       "\n",
       "            <style>\n",
       "                .geemap-dark {\n",
       "                    --jp-widgets-color: white;\n",
       "                    --jp-widgets-label-color: white;\n",
       "                    --jp-ui-font-color1: white;\n",
       "                    --jp-layout-color2: #454545;\n",
       "                    background-color: #383838;\n",
       "                }\n",
       "\n",
       "                .geemap-dark .jupyter-button {\n",
       "                    --jp-layout-color3: #383838;\n",
       "                }\n",
       "\n",
       "                .geemap-colab {\n",
       "                    background-color: var(--colab-primary-surface-color, white);\n",
       "                }\n",
       "\n",
       "                .geemap-colab .jupyter-button {\n",
       "                    --jp-layout-color3: var(--colab-primary-surface-color, white);\n",
       "                }\n",
       "            </style>\n",
       "            "
      ],
      "text/plain": [
       "<IPython.core.display.HTML object>"
      ]
     },
     "metadata": {},
     "output_type": "display_data"
    },
    {
     "data": {
      "application/vnd.jupyter.widget-view+json": {
       "model_id": "bd3d611510864dafb89b196cffcba3d5",
       "version_major": 2,
       "version_minor": 0
      },
      "text/plain": [
       "Map(center=[0, 0], controls=(WidgetControl(options=['position', 'transparent_bg'], widget=SearchDataGUI(childr…"
      ]
     },
     "execution_count": 15,
     "metadata": {},
     "output_type": "execute_result"
    }
   ],
   "source": [
    "Map = geemap.Map()\n",
    "in_shp = \"countries.shp\"\n",
    "Map.add_shp(in_shp, layer_name=\"Countries\",fill_colors=['pink'])\n",
    "Map"
   ]
  },
  {
   "cell_type": "markdown",
   "id": "6f00293c",
   "metadata": {},
   "source": [
    "### KML"
   ]
  },
  {
   "cell_type": "code",
   "execution_count": 16,
   "id": "78beeac6",
   "metadata": {},
   "outputs": [
    {
     "data": {
      "text/html": [
       "\n",
       "            <style>\n",
       "                .geemap-dark {\n",
       "                    --jp-widgets-color: white;\n",
       "                    --jp-widgets-label-color: white;\n",
       "                    --jp-ui-font-color1: white;\n",
       "                    --jp-layout-color2: #454545;\n",
       "                    background-color: #383838;\n",
       "                }\n",
       "\n",
       "                .geemap-dark .jupyter-button {\n",
       "                    --jp-layout-color3: #383838;\n",
       "                }\n",
       "\n",
       "                .geemap-colab {\n",
       "                    background-color: var(--colab-primary-surface-color, white);\n",
       "                }\n",
       "\n",
       "                .geemap-colab .jupyter-button {\n",
       "                    --jp-layout-color3: var(--colab-primary-surface-color, white);\n",
       "                }\n",
       "            </style>\n",
       "            "
      ],
      "text/plain": [
       "<IPython.core.display.HTML object>"
      ]
     },
     "metadata": {},
     "output_type": "display_data"
    }
   ],
   "source": [
    "in_kml = \"https://github.com/gee-community/geemap/blob/master/examples/data/us_states.kml\""
   ]
  },
  {
   "cell_type": "code",
   "execution_count": 17,
   "id": "fe8117bf",
   "metadata": {},
   "outputs": [
    {
     "data": {
      "text/html": [
       "\n",
       "            <style>\n",
       "                .geemap-dark {\n",
       "                    --jp-widgets-color: white;\n",
       "                    --jp-widgets-label-color: white;\n",
       "                    --jp-ui-font-color1: white;\n",
       "                    --jp-layout-color2: #454545;\n",
       "                    background-color: #383838;\n",
       "                }\n",
       "\n",
       "                .geemap-dark .jupyter-button {\n",
       "                    --jp-layout-color3: #383838;\n",
       "                }\n",
       "\n",
       "                .geemap-colab {\n",
       "                    background-color: var(--colab-primary-surface-color, white);\n",
       "                }\n",
       "\n",
       "                .geemap-colab .jupyter-button {\n",
       "                    --jp-layout-color3: var(--colab-primary-surface-color, white);\n",
       "                }\n",
       "            </style>\n",
       "            "
      ],
      "text/plain": [
       "<IPython.core.display.HTML object>"
      ]
     },
     "metadata": {},
     "output_type": "display_data"
    },
    {
     "name": "stderr",
     "output_type": "stream",
     "text": [
      "Downloading...\n",
      "From: https://raw.githubusercontent.com/gee-community/geemap/master/examples/data/us_states.kml\n",
      "To: d:\\Python代码\\Python\\gee\\us_states.kml\n",
      "95.4kB [00:00, 1.75MB/s]                   \n"
     ]
    },
    {
     "data": {
      "application/vnd.jupyter.widget-view+json": {
       "model_id": "38065f9d3fcc486c9f0589f9c84adcb7",
       "version_major": 2,
       "version_minor": 0
      },
      "text/plain": [
       "Map(center=[40, -100], controls=(WidgetControl(options=['position', 'transparent_bg'], widget=SearchDataGUI(ch…"
      ]
     },
     "execution_count": 17,
     "metadata": {},
     "output_type": "execute_result"
    }
   ],
   "source": [
    "Map = geemap.Map(center=[40, -100], zoom=4)\n",
    "Map.add_kml(in_kml, layer_name=\"US States\")\n",
    "Map"
   ]
  },
  {
   "cell_type": "markdown",
   "id": "495eefd2",
   "metadata": {},
   "source": [
    "### GeoDataFrame"
   ]
  },
  {
   "cell_type": "code",
   "execution_count": 18,
   "id": "5ec9f84b",
   "metadata": {},
   "outputs": [
    {
     "data": {
      "text/html": [
       "\n",
       "            <style>\n",
       "                .geemap-dark {\n",
       "                    --jp-widgets-color: white;\n",
       "                    --jp-widgets-label-color: white;\n",
       "                    --jp-ui-font-color1: white;\n",
       "                    --jp-layout-color2: #454545;\n",
       "                    background-color: #383838;\n",
       "                }\n",
       "\n",
       "                .geemap-dark .jupyter-button {\n",
       "                    --jp-layout-color3: #383838;\n",
       "                }\n",
       "\n",
       "                .geemap-colab {\n",
       "                    background-color: var(--colab-primary-surface-color, white);\n",
       "                }\n",
       "\n",
       "                .geemap-colab .jupyter-button {\n",
       "                    --jp-layout-color3: var(--colab-primary-surface-color, white);\n",
       "                }\n",
       "            </style>\n",
       "            "
      ],
      "text/plain": [
       "<IPython.core.display.HTML object>"
      ]
     },
     "metadata": {},
     "output_type": "display_data"
    }
   ],
   "source": [
    "import geopandas as gpd"
   ]
  },
  {
   "cell_type": "code",
   "execution_count": null,
   "id": "16bdd2b5",
   "metadata": {},
   "outputs": [
    {
     "data": {
      "text/html": [
       "\n",
       "            <style>\n",
       "                .geemap-dark {\n",
       "                    --jp-widgets-color: white;\n",
       "                    --jp-widgets-label-color: white;\n",
       "                    --jp-ui-font-color1: white;\n",
       "                    --jp-layout-color2: #454545;\n",
       "                    background-color: #383838;\n",
       "                }\n",
       "\n",
       "                .geemap-dark .jupyter-button {\n",
       "                    --jp-layout-color3: #383838;\n",
       "                }\n",
       "\n",
       "                .geemap-colab {\n",
       "                    background-color: var(--colab-primary-surface-color, white);\n",
       "                }\n",
       "\n",
       "                .geemap-colab .jupyter-button {\n",
       "                    --jp-layout-color3: var(--colab-primary-surface-color, white);\n",
       "                }\n",
       "            </style>\n",
       "            "
      ],
      "text/plain": [
       "<IPython.core.display.HTML object>"
      ]
     },
     "metadata": {},
     "output_type": "display_data"
    },
    {
     "data": {
      "application/vnd.jupyter.widget-view+json": {
       "model_id": "f4e1be72a1c8417485282fa34b4651e1",
       "version_major": 2,
       "version_minor": 0
      },
      "text/plain": [
       "Map(center=[40, -100], controls=(WidgetControl(options=['position', 'transparent_bg'], widget=SearchDataGUI(ch…"
      ]
     },
     "execution_count": 19,
     "metadata": {},
     "output_type": "execute_result"
    }
   ],
   "source": [
    "Map = geemap.Map(center=[40, -100], zoom=4)\n",
    "gdf = gpd.read_file('countries.shp')\n",
    "\n",
    "Map.add_gdf(gdf, layer_name=\"US States\")\n",
    "Map"
   ]
  },
  {
   "cell_type": "markdown",
   "id": "b29df0bb",
   "metadata": {},
   "source": [
    "### Other vector formats"
   ]
  },
  {
   "cell_type": "code",
   "execution_count": 21,
   "id": "21ab4890",
   "metadata": {},
   "outputs": [
    {
     "data": {
      "text/html": [
       "\n",
       "            <style>\n",
       "                .geemap-dark {\n",
       "                    --jp-widgets-color: white;\n",
       "                    --jp-widgets-label-color: white;\n",
       "                    --jp-ui-font-color1: white;\n",
       "                    --jp-layout-color2: #454545;\n",
       "                    background-color: #383838;\n",
       "                }\n",
       "\n",
       "                .geemap-dark .jupyter-button {\n",
       "                    --jp-layout-color3: #383838;\n",
       "                }\n",
       "\n",
       "                .geemap-colab {\n",
       "                    background-color: var(--colab-primary-surface-color, white);\n",
       "                }\n",
       "\n",
       "                .geemap-colab .jupyter-button {\n",
       "                    --jp-layout-color3: var(--colab-primary-surface-color, white);\n",
       "                }\n",
       "            </style>\n",
       "            "
      ],
      "text/plain": [
       "<IPython.core.display.HTML object>"
      ]
     },
     "metadata": {},
     "output_type": "display_data"
    },
    {
     "name": "stderr",
     "output_type": "stream",
     "text": [
      "Downloading...\n",
      "From: https://raw.githubusercontent.com/gee-community/geemap/master/examples/data/countries.gpkg\n",
      "To: d:\\Python代码\\Python\\gee\\countries.gpkg\n",
      "100%|██████████| 336k/336k [00:00<00:00, 1.31MB/s]\n"
     ]
    },
    {
     "data": {
      "application/vnd.jupyter.widget-view+json": {
       "model_id": "0627b5a1631443a197cd3656963bdd28",
       "version_major": 2,
       "version_minor": 0
      },
      "text/plain": [
       "Map(center=[0, 0], controls=(WidgetControl(options=['position', 'transparent_bg'], widget=SearchDataGUI(childr…"
      ]
     },
     "execution_count": 21,
     "metadata": {},
     "output_type": "execute_result"
    }
   ],
   "source": [
    "Map = geemap.Map()\n",
    "data = 'https://github.com/gee-community/geemap/blob/master/examples/data/countries.gpkg'\n",
    "Map.add_vector(data, layer_name=\"Countries\")\n",
    "Map"
   ]
  },
  {
   "cell_type": "markdown",
   "id": "94e12ebb",
   "metadata": {},
   "source": [
    "## Creating points from XY\n",
    "\n",
    "### CSV to vector"
   ]
  },
  {
   "cell_type": "code",
   "execution_count": null,
   "id": "1fb5c678",
   "metadata": {},
   "outputs": [],
   "source": [
    "data = 'https://github.com/gee-community/geemap/blob/master/examples/data/us_cities.csv'\n",
    "geemap.csv_to_df(data)"
   ]
  },
  {
   "cell_type": "code",
   "execution_count": null,
   "id": "88d56c53",
   "metadata": {},
   "outputs": [],
   "source": [
    "geemap.csv_to_geojson(\n",
    "    data, 'cities.geojson', latitude=\"latitude\", longitude='longitude'\n",
    ")"
   ]
  },
  {
   "cell_type": "code",
   "execution_count": null,
   "id": "308d69b1",
   "metadata": {},
   "outputs": [],
   "source": [
    "geemap.csv_to_shp(data, 'cities.shp', latitude=\"latitude\", longitude='longitude')"
   ]
  },
  {
   "cell_type": "code",
   "execution_count": null,
   "id": "a679205f",
   "metadata": {},
   "outputs": [],
   "source": [
    "geemap.csv_to_gdf(data, latitude=\"latitude\", longitude='longitude')"
   ]
  },
  {
   "cell_type": "code",
   "execution_count": null,
   "id": "fdf96a2f",
   "metadata": {},
   "outputs": [],
   "source": [
    "geemap.csv_to_vector(data, 'cities.gpkg', latitude=\"latitude\", longitude='longitude')"
   ]
  },
  {
   "cell_type": "markdown",
   "id": "81cdccb3",
   "metadata": {},
   "source": [
    "### Adding points from XY"
   ]
  },
  {
   "cell_type": "code",
   "execution_count": null,
   "id": "a25599ee",
   "metadata": {},
   "outputs": [],
   "source": [
    "cities = 'https://github.com/gee-community/geemap/blob/master/examples/data/us_cities.csv'\n",
    "regions = (\n",
    "    'https://github.com/gee-community/geemap/blob/master/examples/data/us_regions.geojson'\n",
    ")"
   ]
  },
  {
   "cell_type": "code",
   "execution_count": null,
   "id": "c4798217",
   "metadata": {},
   "outputs": [],
   "source": [
    "Map = geemap.Map(center=[40, -100], zoom=4)\n",
    "Map.add_points_from_xy(cities, x=\"longitude\", y=\"latitude\")\n",
    "Map"
   ]
  },
  {
   "cell_type": "code",
   "execution_count": null,
   "id": "071cbb91",
   "metadata": {},
   "outputs": [],
   "source": [
    "Map = geemap.Map(center=[40, -100], zoom=4)\n",
    "\n",
    "Map.add_geojson(regions, layer_name='US Regions')\n",
    "\n",
    "Map.add_points_from_xy(\n",
    "    cities,\n",
    "    x='longitude',\n",
    "    y='latitude',\n",
    "    layer_name='US Cities',\n",
    "    color_column='region',\n",
    "    icon_names=['gear', 'map', 'leaf', 'globe'],\n",
    "    spin=True,\n",
    "    add_legend=True,\n",
    ")\n",
    "Map"
   ]
  },
  {
   "cell_type": "markdown",
   "id": "2ca0b534",
   "metadata": {},
   "source": [
    "### Circle markers from points"
   ]
  },
  {
   "cell_type": "code",
   "execution_count": null,
   "id": "bda19e80",
   "metadata": {},
   "outputs": [],
   "source": [
    "data = 'https://github.com/gee-community/geemap/blob/master/examples/data/us_cities.csv'"
   ]
  },
  {
   "cell_type": "code",
   "execution_count": null,
   "id": "81f8f664",
   "metadata": {},
   "outputs": [],
   "source": [
    "Map = geemap.Map(center=[40, -100], zoom=4)\n",
    "Map.add_circle_markers_from_xy(\n",
    "    data,\n",
    "    x=\"longitude\",\n",
    "    y=\"latitude\",\n",
    "    radius=10,\n",
    "    color=\"blue\",\n",
    "    fill_color=\"black\",\n",
    "    fill_opacity=0.5,\n",
    ")\n",
    "Map"
   ]
  },
  {
   "cell_type": "markdown",
   "id": "a385ac82",
   "metadata": {},
   "source": [
    "## Vector data to Earth Engine"
   ]
  },
  {
   "cell_type": "code",
   "execution_count": null,
   "id": "ba7a1786",
   "metadata": {},
   "outputs": [],
   "source": [
    "in_geojson = (\n",
    "    'https://github.com/gee-community/geemap/blob/master/examples/data/countries.geojson'\n",
    ")\n",
    "Map = geemap.Map()\n",
    "fc = geemap.geojson_to_ee(in_geojson)\n",
    "Map.addLayer(fc.style(**{'color': 'ff0000', 'fillColor': '00000000'}), {}, 'Countries')\n",
    "Map"
   ]
  },
  {
   "cell_type": "code",
   "execution_count": null,
   "id": "559a6f25",
   "metadata": {},
   "outputs": [],
   "source": [
    "url = \"https://github.com/gee-community/geemap/blob/master/examples/data/countries.zip\"\n",
    "geemap.download_file(url, overwrite=True)"
   ]
  },
  {
   "cell_type": "code",
   "execution_count": null,
   "id": "7e3a092b",
   "metadata": {},
   "outputs": [],
   "source": [
    "in_shp = \"countries.shp\"\n",
    "fc = geemap.shp_to_ee(in_shp)"
   ]
  },
  {
   "cell_type": "code",
   "execution_count": null,
   "id": "07667450",
   "metadata": {},
   "outputs": [],
   "source": [
    "import geopandas as gpd\n",
    "\n",
    "gdf = gpd.read_file(in_shp)\n",
    "fc = geemap.gdf_to_ee(gdf)"
   ]
  },
  {
   "cell_type": "code",
   "execution_count": null,
   "id": "9c1a7df7",
   "metadata": {},
   "outputs": [],
   "source": [
    "fc = geemap.vector_to_ee(url)"
   ]
  },
  {
   "cell_type": "markdown",
   "id": "2cd0365f",
   "metadata": {},
   "source": [
    "## Joining attribute tables"
   ]
  },
  {
   "cell_type": "code",
   "execution_count": null,
   "id": "e60df3ac",
   "metadata": {},
   "outputs": [],
   "source": [
    "Map = geemap.Map()\n",
    "countries = ee.FeatureCollection(geemap.examples.get_ee_path('countries'))\n",
    "Map.addLayer(countries, {}, 'Countries')\n",
    "Map"
   ]
  },
  {
   "cell_type": "code",
   "execution_count": null,
   "id": "f0ec1ccb",
   "metadata": {},
   "outputs": [],
   "source": [
    "geemap.ee_to_df(countries)"
   ]
  },
  {
   "cell_type": "code",
   "execution_count": null,
   "id": "fcb32515",
   "metadata": {},
   "outputs": [],
   "source": [
    "data = (\n",
    "    'https://github.com/gee-community/geemap/blob/master/examples/data/country_centroids.csv'\n",
    ")\n",
    "df = geemap.csv_to_df(data)\n",
    "df"
   ]
  },
  {
   "cell_type": "code",
   "execution_count": null,
   "id": "2021db3d",
   "metadata": {},
   "outputs": [],
   "source": [
    "fc = geemap.ee_join_table(countries, data, src_key='ISO_A2', dst_key='country')"
   ]
  },
  {
   "cell_type": "code",
   "execution_count": null,
   "id": "71e14124",
   "metadata": {},
   "outputs": [],
   "source": [
    "geemap.ee_to_df(fc)"
   ]
  },
  {
   "cell_type": "code",
   "execution_count": null,
   "id": "bb900fc0",
   "metadata": {},
   "outputs": [],
   "source": [
    "Map.addLayer(fc, {}, 'Countries with attr')\n",
    "Map"
   ]
  },
  {
   "cell_type": "markdown",
   "id": "52b85011",
   "metadata": {},
   "source": [
    "## Converting NetCDF to ee.Image"
   ]
  },
  {
   "cell_type": "code",
   "execution_count": null,
   "id": "6aa47f42",
   "metadata": {},
   "outputs": [],
   "source": [
    "import os\n",
    "url = 'https://github.com/gee-community/geemap/blob/master/examples/data/wind_global.nc'\n",
    "nc_file = 'wind_global.nc'\n",
    "if not os.path.exists(nc_file):\n",
    "    geemap.download_file(url)"
   ]
  },
  {
   "cell_type": "code",
   "execution_count": null,
   "id": "a208df32",
   "metadata": {},
   "outputs": [],
   "source": [
    "Map = geemap.Map()\n",
    "img = geemap.netcdf_to_ee(nc_file=nc_file, var_names='u_wind')\n",
    "vis_params = {'min': -20, 'max': 25, 'palette': 'YlOrRd', 'opacity': 0.6}\n",
    "Map.addLayer(img, vis_params, \"u_wind\")\n",
    "Map"
   ]
  },
  {
   "cell_type": "code",
   "execution_count": null,
   "id": "74552a91",
   "metadata": {},
   "outputs": [],
   "source": [
    "Map = geemap.Map()\n",
    "img = geemap.netcdf_to_ee(nc_file=nc_file, var_names=['u_wind', 'v_wind'])\n",
    "Map.addLayer(\n",
    "    img,\n",
    "    {'bands': ['v_wind'], 'min': -20, 'max': 25, 'palette': 'coolwarm', 'opacity': 0.8},\n",
    "    \"v_wind\",\n",
    ")\n",
    "Map"
   ]
  },
  {
   "cell_type": "markdown",
   "id": "442e7bea",
   "metadata": {},
   "source": [
    "## OpenStreetMap data\n",
    "\n",
    "### OSM to GeoDataFrame"
   ]
  },
  {
   "cell_type": "code",
   "execution_count": null,
   "id": "0c33ede0",
   "metadata": {},
   "outputs": [],
   "source": [
    "gdf = geemap.osm_to_gdf(\"Knoxville, Tennessee\")\n",
    "gdf"
   ]
  },
  {
   "cell_type": "markdown",
   "id": "795d2bd3",
   "metadata": {},
   "source": [
    "### OSM to ee.FeatureCollection"
   ]
  },
  {
   "cell_type": "code",
   "execution_count": null,
   "id": "21e7316e",
   "metadata": {},
   "outputs": [],
   "source": [
    "Map = geemap.Map()\n",
    "fc = geemap.osm_to_ee(\"Knoxville, Tennessee\")\n",
    "Map.addLayer(fc, {}, \"Knoxville\")\n",
    "Map.centerObject(fc, 11)\n",
    "Map"
   ]
  },
  {
   "cell_type": "markdown",
   "id": "f6756686",
   "metadata": {},
   "source": [
    "### Downloading OSM data"
   ]
  },
  {
   "cell_type": "code",
   "execution_count": null,
   "id": "dd3a68fb",
   "metadata": {},
   "outputs": [],
   "source": [
    "import geemap.osm as osm"
   ]
  },
  {
   "cell_type": "code",
   "execution_count": null,
   "id": "b0a3084a",
   "metadata": {},
   "outputs": [],
   "source": [
    "Map = geemap.Map(add_google_map=False)\n",
    "gdf = osm.osm_gdf_from_geocode(\"New York City\")\n",
    "Map.add_gdf(gdf, layer_name=\"NYC\")\n",
    "Map"
   ]
  },
  {
   "cell_type": "code",
   "execution_count": null,
   "id": "456e7ff4",
   "metadata": {},
   "outputs": [],
   "source": [
    "place = \"University of Tennessee, Knoxville, TN\"\n",
    "tags = {\"building\": True}\n",
    "gdf = osm.osm_gdf_from_place(place, tags)\n",
    "gdf = gdf[gdf.geometry.type == \"Polygon\"]\n",
    "gdf"
   ]
  },
  {
   "cell_type": "code",
   "execution_count": null,
   "id": "1f27c3c3",
   "metadata": {},
   "outputs": [],
   "source": [
    "Map = geemap.Map(add_google_map=False)\n",
    "Map.add_gdf(gdf, layer_name=\"Buildings\")\n",
    "Map"
   ]
  },
  {
   "cell_type": "code",
   "execution_count": null,
   "id": "70b4d22c",
   "metadata": {},
   "outputs": [],
   "source": [
    "gdf = osm.osm_gdf_from_address(\n",
    "    address=\"New York City\", tags={\"amenity\": \"bar\"}, dist=1500\n",
    ")\n",
    "gdf"
   ]
  },
  {
   "cell_type": "code",
   "execution_count": null,
   "id": "6093f86c",
   "metadata": {},
   "outputs": [],
   "source": [
    "Map = geemap.Map(add_google_map=False)\n",
    "Map.add_gdf(gdf, layer_name=\"NYC bars\")\n",
    "Map"
   ]
  },
  {
   "cell_type": "code",
   "execution_count": null,
   "id": "059753ac",
   "metadata": {},
   "outputs": [],
   "source": [
    "gdf = osm.osm_gdf_from_point(\n",
    "    center_point=(46.7808, -96.0156),\n",
    "    tags={\"natural\": \"water\"},\n",
    "    dist=10000,\n",
    ")\n",
    "gdf"
   ]
  },
  {
   "cell_type": "code",
   "execution_count": null,
   "id": "b3705dec",
   "metadata": {},
   "outputs": [],
   "source": [
    "Map = geemap.Map(add_google_map=False)\n",
    "Map.add_gdf(gdf, layer_name=\"Lakes\")\n",
    "Map"
   ]
  },
  {
   "cell_type": "code",
   "execution_count": null,
   "id": "61ba658d",
   "metadata": {},
   "outputs": [],
   "source": [
    "Map = geemap.Map(center=[40.7500, -73.9854], zoom=16, add_google_map=False)\n",
    "Map"
   ]
  },
  {
   "cell_type": "code",
   "execution_count": null,
   "id": "48299a52",
   "metadata": {},
   "outputs": [],
   "source": [
    "Map.add_osm_from_view(tags={\"amenity\": \"bar\", \"building\": True})"
   ]
  },
  {
   "cell_type": "markdown",
   "id": "5ee021ec",
   "metadata": {},
   "source": [
    "## Reading PostGIS data\n",
    "\n",
    "```bash\n",
    "mamba install sqlalchemy psycopg2 -c conda-forge\n",
    "```"
   ]
  },
  {
   "cell_type": "code",
   "execution_count": null,
   "id": "175f4442",
   "metadata": {},
   "outputs": [],
   "source": [
    "con = geemap.connect_postgis(\n",
    "    database=\"nyc\", host=\"localhost\", user=None, password=None, use_env_var=True\n",
    ")"
   ]
  },
  {
   "cell_type": "code",
   "execution_count": null,
   "id": "fbe3e8ae",
   "metadata": {},
   "outputs": [],
   "source": [
    "sql = 'SELECT * FROM nyc_neighborhoods'\n",
    "gdf = geemap.read_postgis(sql, con)\n",
    "gdf"
   ]
  },
  {
   "cell_type": "code",
   "execution_count": null,
   "id": "15150f89",
   "metadata": {},
   "outputs": [],
   "source": [
    "Map = geemap.Map()\n",
    "Map = geemap.gdf_to_ee(gdf)\n",
    "Map.addLayer(fc, {}, \"NYC EE\")\n",
    "Map.centerObject(fc)\n",
    "Map"
   ]
  },
  {
   "cell_type": "code",
   "execution_count": null,
   "id": "0c46a55f",
   "metadata": {},
   "outputs": [],
   "source": [
    "Map = geemap.Map()\n",
    "Map.add_gdf_from_postgis(\n",
    "    sql, con, layer_name=\"NYC Neighborhoods\", fill_colors=[\"red\", \"green\", \"blue\"]\n",
    ")\n",
    "Map"
   ]
  },
  {
   "cell_type": "markdown",
   "id": "e7e58757",
   "metadata": {},
   "source": [
    "## Summary"
   ]
  },
  {
   "cell_type": "markdown",
   "id": "536da8da",
   "metadata": {},
   "source": [
    "### 可视化本地数据\n",
    "1 对单波段数据图，使用Map.add_raster(filename, colormap='terrain', layer_name=\"DEM\")\n",
    "2 利用import geemap.colormaps as cm\n",
    "      cm.list_colormaps()可以查看palette的名称。\n",
    "3 利用cm.plot_colormaps(width=12, height=0.4)可以查看各类palette名称及其色彩\n",
    "4 对多波段数据，使用Map.add_raster(filename, band=[4, 1, 2], layer_name=\"Color infrared\")同样可以可视化"
   ]
  },
  {
   "cell_type": "markdown",
   "id": "52147f86",
   "metadata": {},
   "source": [
    "### 可视化cog文件\n",
    "1 利用geemap.cog_bounds(url)可以查看cog文件的边界范围\n",
    "2 利用geemap.cog_center(url)可以查看cog文件的中心坐标\n",
    "3 利用geemap.cog_bands(url)可以查看cog文件的波段名称"
   ]
  },
  {
   "cell_type": "markdown",
   "id": "6b404009",
   "metadata": {},
   "source": [
    "### 创建cog文件\n",
    "1 利用geemap.image_to_cog(url, out_cog)可以将URL的Image文件转为cog文件\n",
    "2 利用geemap.cog_validate(out_cog)可以查看路径文件是否为cog文件，设置verbose=True可以查看详细信息\n",
    "3 利用Map.add_cog_layer(url, cmap=\"gist_earth\", name=\"Remote COG\")可以可视化cog文件\n"
   ]
  },
  {
   "cell_type": "markdown",
   "id": "8bba78ab",
   "metadata": {},
   "source": [
    "### 将numpy数据转换为cog文件\n",
    "利用geemap.numpy_to_cog(ndvi, out_cog, profile=in_cog)将numpy转换为cog文件"
   ]
  },
  {
   "cell_type": "markdown",
   "id": "332e186b",
   "metadata": {},
   "source": [
    "### 裁剪cog文件\n",
    "geemap.clip_image(dem, mask, output)"
   ]
  },
  {
   "cell_type": "markdown",
   "id": "79e07e61",
   "metadata": {},
   "source": [
    "### 时空资产数据集（STAC）\n",
    "STAC的操作方法同cog，仅将cog替换为stac即可"
   ]
  },
  {
   "cell_type": "markdown",
   "id": "1b817f82",
   "metadata": {},
   "source": [
    "### 矢量数据集\n",
    "1 geojson文件：利用Map.add_geojson()来可视化，通过更改其中参数设置可视化效果。其中style_callback为自定义style函数\n",
    "2 shp文件：shp文件可视化同geojson，利用Map.add_shp()操作，参数同geojosn\n",
    "3 KML文件：Map.add_kml()，同上。\n",
    "4 gdf：Map.add_gdf(),同上。\n",
    "5 对geopandas支持的（以上均包括）矢量数据，使用Map.add_vector()，操作同上"
   ]
  }
 ],
 "metadata": {
  "kernelspec": {
   "display_name": "gee",
   "language": "python",
   "name": "python3"
  },
  "language_info": {
   "codemirror_mode": {
    "name": "ipython",
    "version": 3
   },
   "file_extension": ".py",
   "mimetype": "text/x-python",
   "name": "python",
   "nbconvert_exporter": "python",
   "pygments_lexer": "ipython3",
   "version": "3.12.7"
  }
 },
 "nbformat": 4,
 "nbformat_minor": 5
}
