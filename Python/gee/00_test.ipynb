{
 "cells": [
  {
   "cell_type": "code",
   "execution_count": 1,
   "id": "fc497712-6a05-40de-b849-e13ac1a03d04",
   "metadata": {
    "ExecuteTime": {
     "end_time": "2025-01-01T08:02:04.133973Z",
     "start_time": "2025-01-01T08:02:03.752344Z"
    }
   },
   "outputs": [],
   "source": [
    "import ee\n",
    "import geemap\n",
    "geemap.set_proxy(33210)\n",
    "geemap.ee_initialize()"
   ]
  },
  {
   "cell_type": "code",
   "execution_count": null,
   "id": "8a209324e6b8607f",
   "metadata": {},
   "outputs": [],
   "source": [
    "import ee\n",
    "import geemap\n",
    "geemap.set_proxy(33210)"
   ]
  },
  {
   "cell_type": "code",
   "execution_count": null,
   "id": "21bf3e9a",
   "metadata": {},
   "outputs": [],
   "source": [
    "import cartoee\n",
    "import matplotlib.pyplot as plt\n",
    "import ee\n",
    "\n",
    "# 初始化 Earth Engine\n",
    "ee.Initialize()\n",
    "\n",
    "# 数据和区域\n",
    "srtm = ee.Image(\"USGS/SRTMGL1_003\")\n",
    "region = ee.Geometry.BBox(-180, -90, 180, 90)\n",
    "\n",
    "# 可视化参数\n",
    "vis_params = {\n",
    "    \"min\": 0,\n",
    "    \"max\": 3000,\n",
    "    \"palette\": [\"blue\", \"green\", \"brown\"]\n",
    "}\n",
    "\n",
    "# 渲染地图\n",
    "cmap = \"terrain\"\n",
    "fig = plt.figure(figsize=(10, 6))\n",
    "ax = cartoee.get_map(srtm, region=region, vis_params=vis_params, cmap=cmap)\n",
    "\n",
    "# 显示地图\n",
    "plt.show()\n",
    "\n"
   ]
  }
 ],
 "metadata": {
  "kernelspec": {
   "display_name": "gee",
   "language": "python",
   "name": "python3"
  },
  "language_info": {
   "codemirror_mode": {
    "name": "ipython",
    "version": 3
   },
   "file_extension": ".py",
   "mimetype": "text/x-python",
   "name": "python",
   "nbconvert_exporter": "python",
   "pygments_lexer": "ipython3",
   "version": "3.12.7"
  }
 },
 "nbformat": 4,
 "nbformat_minor": 5
}
